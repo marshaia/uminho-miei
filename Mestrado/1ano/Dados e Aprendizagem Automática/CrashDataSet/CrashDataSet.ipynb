{
 "cells": [
  {
   "cell_type": "markdown",
   "id": "0f6485ba-7f60-46e6-a049-5cc262492d70",
   "metadata": {
    "tags": []
   },
   "source": [
    "# DAA 22/23 - CrashDataSet"
   ]
  },
  {
   "cell_type": "markdown",
   "id": "1d12a845-b532-4ce3-8b2e-7af611c37951",
   "metadata": {
    "tags": []
   },
   "source": [
    "## Import List"
   ]
  },
  {
   "cell_type": "code",
   "execution_count": 1,
   "id": "7170d562-a453-4060-84aa-0cd6a5b7a441",
   "metadata": {},
   "outputs": [
    {
     "name": "stdout",
     "output_type": "stream",
     "text": [
      "Requirement already satisfied: holidays in /home/vicshadow/Program_Files/anaconda3/envs/env/lib/python3.6/site-packages (0.13)\n",
      "Requirement already satisfied: hijri-converter in /home/vicshadow/Program_Files/anaconda3/envs/env/lib/python3.6/site-packages (from holidays) (2.2.4)\n",
      "Requirement already satisfied: korean-lunar-calendar in /home/vicshadow/Program_Files/anaconda3/envs/env/lib/python3.6/site-packages (from holidays) (0.3.1)\n",
      "Requirement already satisfied: convertdate>=2.3.0 in /home/vicshadow/Program_Files/anaconda3/envs/env/lib/python3.6/site-packages (from holidays) (2.3.2)\n",
      "Requirement already satisfied: python-dateutil in /home/vicshadow/Program_Files/anaconda3/envs/env/lib/python3.6/site-packages (from holidays) (2.8.2)\n",
      "Requirement already satisfied: pytz>=2014.10 in /home/vicshadow/Program_Files/anaconda3/envs/env/lib/python3.6/site-packages (from convertdate>=2.3.0->holidays) (2021.3)\n",
      "Requirement already satisfied: pymeeus<=1,>=0.3.13 in /home/vicshadow/Program_Files/anaconda3/envs/env/lib/python3.6/site-packages (from convertdate>=2.3.0->holidays) (0.5.11)\n",
      "Requirement already satisfied: six>=1.5 in /home/vicshadow/Program_Files/anaconda3/envs/env/lib/python3.6/site-packages (from python-dateutil->holidays) (1.16.0)\n"
     ]
    }
   ],
   "source": [
    "import pandas as pd\n",
    "import numpy as np\n",
    "import matplotlib.pyplot as plt\n",
    "import seaborn as sns\n",
    "import sklearn as skl\n",
    "from sklearn import preprocessing\n",
    "!pip install holidays\n",
    "%matplotlib inline\n",
    "\n",
    "# Set the size to all seaborn figures\n",
    "sns.set(rc={'figure.figsize':(12,8)})\n",
    "\n",
    "dataSetOrig = pd.read_csv(\"training_data.csv\")\n",
    "dataSet = dataSetOrig.copy(deep=True)\n",
    "testDataSetOrig = pd.read_csv(\"test_data.csv\")\n",
    "testDataSet = testDataSetOrig.copy(deep=True)\n",
    "\n",
    "targetFeature = \"incidents\""
   ]
  },
  {
   "cell_type": "markdown",
   "id": "9e210ea6-6a1d-4795-9e80-6cb528d8ee46",
   "metadata": {
    "tags": []
   },
   "source": [
    "## Visualização do DataSet"
   ]
  },
  {
   "cell_type": "markdown",
   "id": "779d9c0e-530a-4398-a58a-0c7e660325e5",
   "metadata": {},
   "source": [
    "A nossa equipa vai começar por analisar o DataSet fornecido, analisando os atributos destes e encontrando potenciais problemas e inconsistências presentes nos dados, assim como atributos que possam ajudar no treino dos modelos a serem desenvolvidos."
   ]
  },
  {
   "cell_type": "markdown",
   "id": "3d3ce69f-6e9e-4e50-a490-32c5c4c306a6",
   "metadata": {
    "tags": []
   },
   "source": [
    "### Head"
   ]
  },
  {
   "cell_type": "code",
   "execution_count": 3,
   "id": "2e5e70e9-66ae-4978-9fbf-831176f2875b",
   "metadata": {},
   "outputs": [
    {
     "data": {
      "text/html": [
       "<div>\n",
       "<style scoped>\n",
       "    .dataframe tbody tr th:only-of-type {\n",
       "        vertical-align: middle;\n",
       "    }\n",
       "\n",
       "    .dataframe tbody tr th {\n",
       "        vertical-align: top;\n",
       "    }\n",
       "\n",
       "    .dataframe thead th {\n",
       "        text-align: right;\n",
       "    }\n",
       "</style>\n",
       "<table border=\"1\" class=\"dataframe\">\n",
       "  <thead>\n",
       "    <tr style=\"text-align: right;\">\n",
       "      <th></th>\n",
       "      <th>city_name</th>\n",
       "      <th>magnitude_of_delay</th>\n",
       "      <th>delay_in_seconds</th>\n",
       "      <th>affected_roads</th>\n",
       "      <th>record_date</th>\n",
       "      <th>luminosity</th>\n",
       "      <th>avg_temperature</th>\n",
       "      <th>avg_atm_pressure</th>\n",
       "      <th>avg_humidity</th>\n",
       "      <th>avg_wind_speed</th>\n",
       "      <th>avg_precipitation</th>\n",
       "      <th>avg_rain</th>\n",
       "      <th>incidents</th>\n",
       "    </tr>\n",
       "  </thead>\n",
       "  <tbody>\n",
       "    <tr>\n",
       "      <th>0</th>\n",
       "      <td>Guimaraes</td>\n",
       "      <td>UNDEFINED</td>\n",
       "      <td>0</td>\n",
       "      <td>,</td>\n",
       "      <td>2021-03-15 23:00</td>\n",
       "      <td>DARK</td>\n",
       "      <td>12.0</td>\n",
       "      <td>1013.0</td>\n",
       "      <td>70.0</td>\n",
       "      <td>1.0</td>\n",
       "      <td>0.0</td>\n",
       "      <td>Sem Chuva</td>\n",
       "      <td>None</td>\n",
       "    </tr>\n",
       "    <tr>\n",
       "      <th>1</th>\n",
       "      <td>Guimaraes</td>\n",
       "      <td>UNDEFINED</td>\n",
       "      <td>385</td>\n",
       "      <td>N101,</td>\n",
       "      <td>2021-12-25 18:00</td>\n",
       "      <td>DARK</td>\n",
       "      <td>12.0</td>\n",
       "      <td>1007.0</td>\n",
       "      <td>91.0</td>\n",
       "      <td>1.0</td>\n",
       "      <td>0.0</td>\n",
       "      <td>Sem Chuva</td>\n",
       "      <td>None</td>\n",
       "    </tr>\n",
       "    <tr>\n",
       "      <th>2</th>\n",
       "      <td>Guimaraes</td>\n",
       "      <td>UNDEFINED</td>\n",
       "      <td>69</td>\n",
       "      <td>,</td>\n",
       "      <td>2021-03-12 15:00</td>\n",
       "      <td>LIGHT</td>\n",
       "      <td>14.0</td>\n",
       "      <td>1025.0</td>\n",
       "      <td>64.0</td>\n",
       "      <td>0.0</td>\n",
       "      <td>0.0</td>\n",
       "      <td>Sem Chuva</td>\n",
       "      <td>Low</td>\n",
       "    </tr>\n",
       "    <tr>\n",
       "      <th>3</th>\n",
       "      <td>Guimaraes</td>\n",
       "      <td>MAJOR</td>\n",
       "      <td>2297</td>\n",
       "      <td>N101,R206,N105,N101,N101,N101,N101,N101,N101,N...</td>\n",
       "      <td>2021-09-29 09:00</td>\n",
       "      <td>LIGHT</td>\n",
       "      <td>15.0</td>\n",
       "      <td>1028.0</td>\n",
       "      <td>75.0</td>\n",
       "      <td>1.0</td>\n",
       "      <td>0.0</td>\n",
       "      <td>Sem Chuva</td>\n",
       "      <td>Very_High</td>\n",
       "    </tr>\n",
       "    <tr>\n",
       "      <th>4</th>\n",
       "      <td>Guimaraes</td>\n",
       "      <td>UNDEFINED</td>\n",
       "      <td>0</td>\n",
       "      <td>N101,N101,N101,N101,N101,</td>\n",
       "      <td>2021-06-13 11:00</td>\n",
       "      <td>LIGHT</td>\n",
       "      <td>27.0</td>\n",
       "      <td>1020.0</td>\n",
       "      <td>52.0</td>\n",
       "      <td>1.0</td>\n",
       "      <td>0.0</td>\n",
       "      <td>Sem Chuva</td>\n",
       "      <td>High</td>\n",
       "    </tr>\n",
       "  </tbody>\n",
       "</table>\n",
       "</div>"
      ],
      "text/plain": [
       "   city_name magnitude_of_delay  delay_in_seconds  \\\n",
       "0  Guimaraes          UNDEFINED                 0   \n",
       "1  Guimaraes          UNDEFINED               385   \n",
       "2  Guimaraes          UNDEFINED                69   \n",
       "3  Guimaraes              MAJOR              2297   \n",
       "4  Guimaraes          UNDEFINED                 0   \n",
       "\n",
       "                                      affected_roads       record_date  \\\n",
       "0                                                  ,  2021-03-15 23:00   \n",
       "1                                              N101,  2021-12-25 18:00   \n",
       "2                                                  ,  2021-03-12 15:00   \n",
       "3  N101,R206,N105,N101,N101,N101,N101,N101,N101,N...  2021-09-29 09:00   \n",
       "4                          N101,N101,N101,N101,N101,  2021-06-13 11:00   \n",
       "\n",
       "  luminosity  avg_temperature  avg_atm_pressure  avg_humidity  avg_wind_speed  \\\n",
       "0       DARK             12.0            1013.0          70.0             1.0   \n",
       "1       DARK             12.0            1007.0          91.0             1.0   \n",
       "2      LIGHT             14.0            1025.0          64.0             0.0   \n",
       "3      LIGHT             15.0            1028.0          75.0             1.0   \n",
       "4      LIGHT             27.0            1020.0          52.0             1.0   \n",
       "\n",
       "   avg_precipitation   avg_rain  incidents  \n",
       "0                0.0  Sem Chuva       None  \n",
       "1                0.0  Sem Chuva       None  \n",
       "2                0.0  Sem Chuva        Low  \n",
       "3                0.0  Sem Chuva  Very_High  \n",
       "4                0.0  Sem Chuva       High  "
      ]
     },
     "execution_count": 3,
     "metadata": {},
     "output_type": "execute_result"
    }
   ],
   "source": [
    "dataSetOrig.head()"
   ]
  },
  {
   "cell_type": "markdown",
   "id": "936ebc93-d918-4d8e-97df-1350f16f1f7d",
   "metadata": {
    "tags": []
   },
   "source": [
    "### DataSet Info"
   ]
  },
  {
   "cell_type": "code",
   "execution_count": 4,
   "id": "0ffc69fe-2b8a-4009-8e34-4378763913c8",
   "metadata": {},
   "outputs": [
    {
     "name": "stdout",
     "output_type": "stream",
     "text": [
      "<class 'pandas.core.frame.DataFrame'>\n",
      "RangeIndex: 5000 entries, 0 to 4999\n",
      "Data columns (total 13 columns):\n",
      " #   Column              Non-Null Count  Dtype  \n",
      "---  ------              --------------  -----  \n",
      " 0   city_name           5000 non-null   object \n",
      " 1   magnitude_of_delay  5000 non-null   object \n",
      " 2   delay_in_seconds    5000 non-null   int64  \n",
      " 3   affected_roads      4915 non-null   object \n",
      " 4   record_date         5000 non-null   object \n",
      " 5   luminosity          5000 non-null   object \n",
      " 6   avg_temperature     5000 non-null   float64\n",
      " 7   avg_atm_pressure    5000 non-null   float64\n",
      " 8   avg_humidity        5000 non-null   float64\n",
      " 9   avg_wind_speed      5000 non-null   float64\n",
      " 10  avg_precipitation   5000 non-null   float64\n",
      " 11  avg_rain            5000 non-null   object \n",
      " 12  incidents           5000 non-null   object \n",
      "dtypes: float64(5), int64(1), object(7)\n",
      "memory usage: 507.9+ KB\n"
     ]
    }
   ],
   "source": [
    "dataSetOrig.info()"
   ]
  },
  {
   "cell_type": "markdown",
   "id": "791a9008-a7f4-4dcf-ac85-08540b481e6b",
   "metadata": {
    "tags": []
   },
   "source": [
    "### Describe"
   ]
  },
  {
   "cell_type": "markdown",
   "id": "e1917ce3-36ce-44ab-8c75-a3372959fa76",
   "metadata": {},
   "source": [
    "A partir do comando 'describe', podemos inferir várias estátisticas dos atributos numéricos presentes no DataSet como:\n",
    "\n",
    "* __'delay_in_seconds'__ possui um distribuição anormal, tendo este valores a 0 até ao percentil 50, subindo abruptamente nos restantes valores. Visto que, em casos reais, estes valores deveriam ser sempre maior que 0, podemos inferir que estes casos são casos onde este valor poderá não ter sido registado corretamente.\n",
    "* __'avg_precipitation'__ possui valores abnormais, sendo estes todos 0, o que não trará qualquer benefício em termos de informação para o modelo."
   ]
  },
  {
   "cell_type": "code",
   "execution_count": 5,
   "id": "8508fb52-eeb3-4040-a271-5c84a88ddbef",
   "metadata": {},
   "outputs": [
    {
     "data": {
      "text/html": [
       "<div>\n",
       "<style scoped>\n",
       "    .dataframe tbody tr th:only-of-type {\n",
       "        vertical-align: middle;\n",
       "    }\n",
       "\n",
       "    .dataframe tbody tr th {\n",
       "        vertical-align: top;\n",
       "    }\n",
       "\n",
       "    .dataframe thead th {\n",
       "        text-align: right;\n",
       "    }\n",
       "</style>\n",
       "<table border=\"1\" class=\"dataframe\">\n",
       "  <thead>\n",
       "    <tr style=\"text-align: right;\">\n",
       "      <th></th>\n",
       "      <th>delay_in_seconds</th>\n",
       "      <th>avg_temperature</th>\n",
       "      <th>avg_atm_pressure</th>\n",
       "      <th>avg_humidity</th>\n",
       "      <th>avg_wind_speed</th>\n",
       "      <th>avg_precipitation</th>\n",
       "    </tr>\n",
       "  </thead>\n",
       "  <tbody>\n",
       "    <tr>\n",
       "      <th>count</th>\n",
       "      <td>5000.000000</td>\n",
       "      <td>5000.000000</td>\n",
       "      <td>5000.000000</td>\n",
       "      <td>5000.000000</td>\n",
       "      <td>5000.000000</td>\n",
       "      <td>5000.0</td>\n",
       "    </tr>\n",
       "    <tr>\n",
       "      <th>mean</th>\n",
       "      <td>560.567000</td>\n",
       "      <td>14.583000</td>\n",
       "      <td>1018.145000</td>\n",
       "      <td>74.455000</td>\n",
       "      <td>1.253500</td>\n",
       "      <td>0.0</td>\n",
       "    </tr>\n",
       "    <tr>\n",
       "      <th>std</th>\n",
       "      <td>1686.859581</td>\n",
       "      <td>4.820514</td>\n",
       "      <td>5.174372</td>\n",
       "      <td>17.204638</td>\n",
       "      <td>1.269847</td>\n",
       "      <td>0.0</td>\n",
       "    </tr>\n",
       "    <tr>\n",
       "      <th>min</th>\n",
       "      <td>0.000000</td>\n",
       "      <td>1.000000</td>\n",
       "      <td>997.000000</td>\n",
       "      <td>6.000000</td>\n",
       "      <td>0.000000</td>\n",
       "      <td>0.0</td>\n",
       "    </tr>\n",
       "    <tr>\n",
       "      <th>25%</th>\n",
       "      <td>0.000000</td>\n",
       "      <td>11.000000</td>\n",
       "      <td>1015.000000</td>\n",
       "      <td>63.000000</td>\n",
       "      <td>0.000000</td>\n",
       "      <td>0.0</td>\n",
       "    </tr>\n",
       "    <tr>\n",
       "      <th>50%</th>\n",
       "      <td>0.000000</td>\n",
       "      <td>14.000000</td>\n",
       "      <td>1019.000000</td>\n",
       "      <td>78.000000</td>\n",
       "      <td>1.000000</td>\n",
       "      <td>0.0</td>\n",
       "    </tr>\n",
       "    <tr>\n",
       "      <th>75%</th>\n",
       "      <td>234.000000</td>\n",
       "      <td>18.000000</td>\n",
       "      <td>1022.000000</td>\n",
       "      <td>90.000000</td>\n",
       "      <td>2.000000</td>\n",
       "      <td>0.0</td>\n",
       "    </tr>\n",
       "    <tr>\n",
       "      <th>max</th>\n",
       "      <td>31083.000000</td>\n",
       "      <td>35.000000</td>\n",
       "      <td>1032.000000</td>\n",
       "      <td>100.000000</td>\n",
       "      <td>10.000000</td>\n",
       "      <td>0.0</td>\n",
       "    </tr>\n",
       "  </tbody>\n",
       "</table>\n",
       "</div>"
      ],
      "text/plain": [
       "       delay_in_seconds  avg_temperature  avg_atm_pressure  avg_humidity  \\\n",
       "count       5000.000000      5000.000000       5000.000000   5000.000000   \n",
       "mean         560.567000        14.583000       1018.145000     74.455000   \n",
       "std         1686.859581         4.820514          5.174372     17.204638   \n",
       "min            0.000000         1.000000        997.000000      6.000000   \n",
       "25%            0.000000        11.000000       1015.000000     63.000000   \n",
       "50%            0.000000        14.000000       1019.000000     78.000000   \n",
       "75%          234.000000        18.000000       1022.000000     90.000000   \n",
       "max        31083.000000        35.000000       1032.000000    100.000000   \n",
       "\n",
       "       avg_wind_speed  avg_precipitation  \n",
       "count     5000.000000             5000.0  \n",
       "mean         1.253500                0.0  \n",
       "std          1.269847                0.0  \n",
       "min          0.000000                0.0  \n",
       "25%          0.000000                0.0  \n",
       "50%          1.000000                0.0  \n",
       "75%          2.000000                0.0  \n",
       "max         10.000000                0.0  "
      ]
     },
     "execution_count": 5,
     "metadata": {},
     "output_type": "execute_result"
    }
   ],
   "source": [
    "dataSetOrig.describe()"
   ]
  },
  {
   "cell_type": "markdown",
   "id": "66a0b965-5148-4231-9e27-74f8029ac8fb",
   "metadata": {
    "tags": []
   },
   "source": [
    "### Análise de valores nos atributos nominais"
   ]
  },
  {
   "cell_type": "markdown",
   "id": "f864c19a-6013-44d2-be62-ba952726863b",
   "metadata": {},
   "source": [
    "Analisamos os valores presentes nos vários atributos nominais, podendo inferir que o atributo __'city_name'__ é repetido nas 5000 linhas presentes do DataSet."
   ]
  },
  {
   "cell_type": "code",
   "execution_count": 6,
   "id": "be072d77-b561-4a6c-ba87-30ff64c1494d",
   "metadata": {},
   "outputs": [
    {
     "name": "stdout",
     "output_type": "stream",
     "text": [
      "City Name: ['Guimaraes']\n",
      "Magnitude of Delay: ['UNDEFINED' 'MAJOR' 'MODERATE']\n",
      "Luminosity: ['DARK' 'LIGHT' 'LOW_LIGHT']\n",
      "Average Rain: ['Sem Chuva' 'chuva moderada' 'chuva fraca' 'chuva forte']\n",
      "Incidents: ['None' 'Low' 'Very_High' 'High' 'Medium']\n"
     ]
    }
   ],
   "source": [
    "print('City Name:',dataSetOrig['city_name'].unique())\n",
    "print('Magnitude of Delay:',dataSetOrig['magnitude_of_delay'].unique())\n",
    "print('Luminosity:',dataSetOrig['luminosity'].unique())\n",
    "print('Average Rain:',dataSetOrig['avg_rain'].unique())\n",
    "print('Incidents:',dataSetOrig['incidents'].unique())"
   ]
  },
  {
   "cell_type": "markdown",
   "id": "44e571f3-38c3-4500-b0f9-ea557bbf5755",
   "metadata": {
    "tags": []
   },
   "source": [
    "### Análise de Entradas Duplicadas"
   ]
  },
  {
   "cell_type": "markdown",
   "id": "9f5db3d3-2351-4b7d-8edc-4b71ec4a8991",
   "metadata": {},
   "source": [
    "Analisamos potenciais entradas duplicadas, verificando que não existem"
   ]
  },
  {
   "cell_type": "code",
   "execution_count": 8,
   "id": "002e8d04-dde4-44f7-9926-9a635da5a2d2",
   "metadata": {},
   "outputs": [
    {
     "data": {
      "text/html": [
       "<div>\n",
       "<style scoped>\n",
       "    .dataframe tbody tr th:only-of-type {\n",
       "        vertical-align: middle;\n",
       "    }\n",
       "\n",
       "    .dataframe tbody tr th {\n",
       "        vertical-align: top;\n",
       "    }\n",
       "\n",
       "    .dataframe thead th {\n",
       "        text-align: right;\n",
       "    }\n",
       "</style>\n",
       "<table border=\"1\" class=\"dataframe\">\n",
       "  <thead>\n",
       "    <tr style=\"text-align: right;\">\n",
       "      <th></th>\n",
       "      <th>city_name</th>\n",
       "      <th>magnitude_of_delay</th>\n",
       "      <th>delay_in_seconds</th>\n",
       "      <th>affected_roads</th>\n",
       "      <th>record_date</th>\n",
       "      <th>luminosity</th>\n",
       "      <th>avg_temperature</th>\n",
       "      <th>avg_atm_pressure</th>\n",
       "      <th>avg_humidity</th>\n",
       "      <th>avg_wind_speed</th>\n",
       "      <th>avg_precipitation</th>\n",
       "      <th>avg_rain</th>\n",
       "      <th>incidents</th>\n",
       "    </tr>\n",
       "  </thead>\n",
       "  <tbody>\n",
       "  </tbody>\n",
       "</table>\n",
       "</div>"
      ],
      "text/plain": [
       "Empty DataFrame\n",
       "Columns: [city_name, magnitude_of_delay, delay_in_seconds, affected_roads, record_date, luminosity, avg_temperature, avg_atm_pressure, avg_humidity, avg_wind_speed, avg_precipitation, avg_rain, incidents]\n",
       "Index: []"
      ]
     },
     "execution_count": 8,
     "metadata": {},
     "output_type": "execute_result"
    }
   ],
   "source": [
    "dataSetOrig[dataSetOrig.duplicated()]"
   ]
  },
  {
   "cell_type": "markdown",
   "id": "6e017399-c64a-49ca-8ea5-b539c8d7038c",
   "metadata": {
    "tags": []
   },
   "source": [
    "### PairPlot"
   ]
  },
  {
   "cell_type": "code",
   "execution_count": 9,
   "id": "f0915e1d-486e-4912-8603-c6dcef57cefb",
   "metadata": {},
   "outputs": [
    {
     "data": {
      "text/plain": [
       "<seaborn.axisgrid.PairGrid at 0x7fb2305bcc50>"
      ]
     },
     "execution_count": 9,
     "metadata": {},
     "output_type": "execute_result"
    },
    {
     "data": {
      "image/png": "[encoded data removed]",
      "text/plain": [
       "<Figure size 1080x1080 with 42 Axes>"
      ]
     },
     "metadata": {},
     "output_type": "display_data"
    }
   ],
   "source": [
    "sns.pairplot(dataSetOrig)"
   ]
  },
  {
   "cell_type": "markdown",
   "id": "9da241d1-fe08-4f26-bebe-4ae240a3a4f9",
   "metadata": {
    "tags": []
   },
   "source": [
    "### Outiliers"
   ]
  },
  {
   "cell_type": "markdown",
   "id": "d6e01cfb-d34f-42d2-aa09-f32173266620",
   "metadata": {},
   "source": [
    "Exploramos os Outliers dos vários atributos do DataSet, podendo confirmar a anormalidade presente nos dados do atributo __'delay_in_seconds'__"
   ]
  },
  {
   "cell_type": "markdown",
   "id": "39afa91c-5fff-43b1-907b-73df8a09715a",
   "metadata": {
    "tags": []
   },
   "source": [
    "#### Avg. Wind Speed"
   ]
  },
  {
   "cell_type": "code",
   "execution_count": 10,
   "id": "5dec172f-95ea-450a-a7c2-22d58df87b0d",
   "metadata": {},
   "outputs": [
    {
     "data": {
      "image/png": "[encoded data removed]",
      "text/plain": [
       "<Figure size 540x360 with 1 Axes>"
      ]
     },
     "metadata": {},
     "output_type": "display_data"
    }
   ],
   "source": [
    "sns.catplot(data=dataSetOrig.drop(['delay_in_seconds','avg_temperature','avg_atm_pressure','avg_humidity','avg_precipitation'],axis=1),kind=\"box\",aspect=1.5)\n",
    "plt.title(\"Outliers Avg. Wind Speed\")\n",
    "plt.show()"
   ]
  },
  {
   "cell_type": "markdown",
   "id": "e06b2974-4eda-43c8-82bc-de8f796aa641",
   "metadata": {
    "tags": []
   },
   "source": [
    "#### Avg. Humidity"
   ]
  },
  {
   "cell_type": "code",
   "execution_count": 11,
   "id": "fc6a70a7-c23e-4d6b-abe4-0a2bd7cc75e4",
   "metadata": {},
   "outputs": [
    {
     "data": {
      "image/png": "[encoded data removed]",
      "text/plain": [
       "<Figure size 540x360 with 1 Axes>"
      ]
     },
     "metadata": {},
     "output_type": "display_data"
    }
   ],
   "source": [
    "sns.catplot(data=dataSetOrig.drop(['delay_in_seconds','avg_temperature','avg_atm_pressure','avg_wind_speed','avg_precipitation'],axis=1),kind=\"box\",aspect=1.5)\n",
    "plt.title(\"Outliers Avg. Humidity\")\n",
    "plt.show()"
   ]
  },
  {
   "cell_type": "markdown",
   "id": "aa3bd576-e19c-4884-91bc-399173bd3174",
   "metadata": {
    "tags": []
   },
   "source": [
    "#### Avg. Atm Pressure"
   ]
  },
  {
   "cell_type": "code",
   "execution_count": 12,
   "id": "5a1d5b77-6009-4939-b1a2-e432a8a98946",
   "metadata": {},
   "outputs": [
    {
     "data": {
      "image/png": "[encoded data removed]",
      "text/plain": [
       "<Figure size 540x360 with 1 Axes>"
      ]
     },
     "metadata": {},
     "output_type": "display_data"
    }
   ],
   "source": [
    "sns.catplot(data=dataSetOrig.drop(['delay_in_seconds','avg_temperature','avg_humidity','avg_wind_speed','avg_precipitation'],axis=1),kind=\"box\",aspect=1.5)\n",
    "plt.title(\"Outliers Avg. Atm Pressure\")\n",
    "plt.show()"
   ]
  },
  {
   "cell_type": "markdown",
   "id": "00e1c1bf-467e-4f7b-83aa-d24e53c6fecb",
   "metadata": {
    "tags": []
   },
   "source": [
    "#### Avg. Temperature"
   ]
  },
  {
   "cell_type": "code",
   "execution_count": 13,
   "id": "b1aadd10-1c47-4fcc-a9b4-99de02e9205b",
   "metadata": {},
   "outputs": [
    {
     "data": {
      "image/png": "[encoded data removed]",
      "text/plain": [
       "<Figure size 540x360 with 1 Axes>"
      ]
     },
     "metadata": {},
     "output_type": "display_data"
    }
   ],
   "source": [
    "sns.catplot(data=dataSetOrig.drop(['delay_in_seconds','avg_atm_pressure','avg_humidity','avg_wind_speed','avg_precipitation'],axis=1),kind=\"box\",aspect=1.5)\n",
    "plt.title(\"Outliers Avg. Temperature\")\n",
    "plt.show()"
   ]
  },
  {
   "cell_type": "markdown",
   "id": "2233e947-fcdc-46cb-921e-1a3a0485a808",
   "metadata": {
    "tags": []
   },
   "source": [
    "#### Delay In Seconds"
   ]
  },
  {
   "cell_type": "code",
   "execution_count": 14,
   "id": "6dc9cdcb-21f6-4e3e-a898-9dbe97e3a161",
   "metadata": {},
   "outputs": [
    {
     "data": {
      "image/png": "[encoded data removed]",
      "text/plain": [
       "<Figure size 540x360 with 1 Axes>"
      ]
     },
     "metadata": {},
     "output_type": "display_data"
    }
   ],
   "source": [
    "sns.catplot(data=dataSetOrig.drop(['avg_temperature','avg_atm_pressure','avg_humidity','avg_wind_speed','avg_precipitation'],axis=1),kind=\"box\",aspect=1.5)\n",
    "plt.title(\"Outliers Delay in Seconds\")\n",
    "plt.show()"
   ]
  },
  {
   "cell_type": "markdown",
   "id": "89b03c41-60ef-402a-968a-3f9362384744",
   "metadata": {
    "tags": []
   },
   "source": [
    "### Gráfico de Correlação"
   ]
  },
  {
   "cell_type": "markdown",
   "id": "36bc2853-a4fe-4854-bc0a-26088c727be3",
   "metadata": {},
   "source": [
    "De seguida, analisamos a matrix de correlação. Podemos observar e confirmar a anormalidade do __'avg_precipitation'__, assim como a baixa correlação do atributo __'delay_in_seconds'__ com outros atributos e também a média correlação do __'avg_temperature'__ com o atributo __'avg_humidity'__."
   ]
  },
  {
   "cell_type": "code",
   "execution_count": 15,
   "id": "970b0c1e-f5cc-4cef-9635-04018470ca33",
   "metadata": {},
   "outputs": [
    {
     "data": {
      "image/png": "[encoded data removed]",
      "text/plain": [
       "<Figure size 864x720 with 2 Axes>"
      ]
     },
     "metadata": {},
     "output_type": "display_data"
    }
   ],
   "source": [
    "corr_matrix = dataSetOrig.corr()\n",
    "f, ax = plt.subplots(figsize=(12, 10))\n",
    "sns.heatmap(corr_matrix, vmin=-1, vmax=1, square=True, annot=True);"
   ]
  },
  {
   "cell_type": "markdown",
   "id": "2bebc29d-2388-4129-b28a-367dbd887d85",
   "metadata": {
    "tags": []
   },
   "source": [
    "### Missing Values"
   ]
  },
  {
   "cell_type": "markdown",
   "id": "5580c319-7f88-4ca2-8a8d-1d27b8a22703",
   "metadata": {},
   "source": [
    "Fizemos a análise de missing values, não encontrando muitos valores em falta, sendo estes relativos ao atributo __'affected_roads'__, o que indica que nestes casos apenas não foram assinaladas as estradas dos incidentes."
   ]
  },
  {
   "cell_type": "code",
   "execution_count": 16,
   "id": "9c36ec3a-1c37-4f18-8b29-dfedda4215bc",
   "metadata": {},
   "outputs": [
    {
     "data": {
      "text/plain": [
       "<AxesSubplot:>"
      ]
     },
     "execution_count": 16,
     "metadata": {},
     "output_type": "execute_result"
    },
    {
     "data": {
      "image/png": "[encoded data removed]",
      "text/plain": [
       "<Figure size 864x576 with 1 Axes>"
      ]
     },
     "metadata": {},
     "output_type": "display_data"
    }
   ],
   "source": [
    "sns.heatmap(dataSetOrig.isnull(), yticklabels=False, cbar=False, cmap='viridis')"
   ]
  },
  {
   "cell_type": "markdown",
   "id": "c1f0b001-dd85-4ec9-978e-bdb5ada51991",
   "metadata": {
    "tags": []
   },
   "source": [
    "### Percentagem de Incidentes"
   ]
  },
  {
   "cell_type": "code",
   "execution_count": 17,
   "id": "78cdecb9-a157-4308-bf90-7d3759e45a04",
   "metadata": {},
   "outputs": [
    {
     "data": {
      "image/png": "[encoded data removed]",
      "text/plain": [
       "<Figure size 864x576 with 1 Axes>"
      ]
     },
     "metadata": {},
     "output_type": "display_data"
    }
   ],
   "source": [
    "labels = dataSetOrig['incidents'].astype('category').cat.categories.tolist()\n",
    "counts = dataSetOrig['incidents'].value_counts()\n",
    "sizes = [counts[var_cat] for var_cat in labels]\n",
    "fig1, ax1 = plt.subplots()\n",
    "ax1.pie(sizes, labels = labels, autopct='%1.1f%%')\n",
    "ax1.axis('equal')\n",
    "plt.show()"
   ]
  },
  {
   "cell_type": "code",
   "execution_count": 18,
   "id": "5da22503-7072-4f26-ba3b-9cc5e53f4036",
   "metadata": {},
   "outputs": [
    {
     "name": "stderr",
     "output_type": "stream",
     "text": [
      "/home/vicshadow/Program_Files/anaconda3/envs/env/lib/python3.6/site-packages/seaborn/_decorators.py:43: FutureWarning: Pass the following variables as keyword args: x, y. From version 0.12, the only valid positional argument will be `data`, and passing other arguments without an explicit keyword will result in an error or misinterpretation.\n",
      "  FutureWarning\n"
     ]
    },
    {
     "data": {
      "image/png": "[encoded data removed]",
      "text/plain": [
       "<Figure size 864x576 with 1 Axes>"
      ]
     },
     "metadata": {},
     "output_type": "display_data"
    }
   ],
   "source": [
    "incidents_count = dataSetOrig['incidents'].value_counts()\n",
    "sns.set(style='darkgrid')\n",
    "sns.barplot(incidents_count.index, incidents_count.values, alpha=0.9)\n",
    "plt.title('Frequency Distribution of Incidents')\n",
    "plt.ylabel('Number of Occurrences', fontsize=12)\n",
    "plt.xlabel('Incidents', fontsize=12)\n",
    "plt.show()"
   ]
  },
  {
   "cell_type": "markdown",
   "id": "2d08ca71-bba4-4b70-b2a6-abb6d2ad1ee5",
   "metadata": {
    "tags": []
   },
   "source": [
    "## Tratamento e Limpeza de Dados"
   ]
  },
  {
   "cell_type": "markdown",
   "id": "de0f541b-8ce1-4051-a00c-7c52065ebacc",
   "metadata": {},
   "source": [
    "Passamos ao tratamento do DataSet, utilizando por base o conhecimento obtido na fase de visualização do DataSet."
   ]
  },
  {
   "cell_type": "markdown",
   "id": "7933dc78-a8f9-4f0d-bb96-a9d83b87dbb1",
   "metadata": {
    "tags": []
   },
   "source": [
    "### Remover colunas redundantes"
   ]
  },
  {
   "cell_type": "markdown",
   "id": "8cb00399-77e2-4007-b390-27b9d842e737",
   "metadata": {},
   "source": [
    "Visto que os atributos __'city_name'__ e __'avg_precipitation'__ contêm apenas valores repetidos ao longo das 5000 linhas do DataSet, indicando que estas colunas são redundantes e poderão ser removidas."
   ]
  },
  {
   "cell_type": "code",
   "execution_count": 19,
   "id": "5bf4bb59-96b9-45b8-8cf3-ca621c3e8b1d",
   "metadata": {},
   "outputs": [
    {
     "data": {
      "text/html": [
       "<div>\n",
       "<style scoped>\n",
       "    .dataframe tbody tr th:only-of-type {\n",
       "        vertical-align: middle;\n",
       "    }\n",
       "\n",
       "    .dataframe tbody tr th {\n",
       "        vertical-align: top;\n",
       "    }\n",
       "\n",
       "    .dataframe thead th {\n",
       "        text-align: right;\n",
       "    }\n",
       "</style>\n",
       "<table border=\"1\" class=\"dataframe\">\n",
       "  <thead>\n",
       "    <tr style=\"text-align: right;\">\n",
       "      <th></th>\n",
       "      <th>magnitude_of_delay</th>\n",
       "      <th>delay_in_seconds</th>\n",
       "      <th>affected_roads</th>\n",
       "      <th>record_date</th>\n",
       "      <th>luminosity</th>\n",
       "      <th>avg_temperature</th>\n",
       "      <th>avg_atm_pressure</th>\n",
       "      <th>avg_humidity</th>\n",
       "      <th>avg_wind_speed</th>\n",
       "      <th>avg_rain</th>\n",
       "      <th>incidents</th>\n",
       "    </tr>\n",
       "  </thead>\n",
       "  <tbody>\n",
       "    <tr>\n",
       "      <th>0</th>\n",
       "      <td>UNDEFINED</td>\n",
       "      <td>0</td>\n",
       "      <td>,</td>\n",
       "      <td>2021-03-15 23:00</td>\n",
       "      <td>DARK</td>\n",
       "      <td>12.0</td>\n",
       "      <td>1013.0</td>\n",
       "      <td>70.0</td>\n",
       "      <td>1.0</td>\n",
       "      <td>Sem Chuva</td>\n",
       "      <td>None</td>\n",
       "    </tr>\n",
       "    <tr>\n",
       "      <th>1</th>\n",
       "      <td>UNDEFINED</td>\n",
       "      <td>385</td>\n",
       "      <td>N101,</td>\n",
       "      <td>2021-12-25 18:00</td>\n",
       "      <td>DARK</td>\n",
       "      <td>12.0</td>\n",
       "      <td>1007.0</td>\n",
       "      <td>91.0</td>\n",
       "      <td>1.0</td>\n",
       "      <td>Sem Chuva</td>\n",
       "      <td>None</td>\n",
       "    </tr>\n",
       "    <tr>\n",
       "      <th>2</th>\n",
       "      <td>UNDEFINED</td>\n",
       "      <td>69</td>\n",
       "      <td>,</td>\n",
       "      <td>2021-03-12 15:00</td>\n",
       "      <td>LIGHT</td>\n",
       "      <td>14.0</td>\n",
       "      <td>1025.0</td>\n",
       "      <td>64.0</td>\n",
       "      <td>0.0</td>\n",
       "      <td>Sem Chuva</td>\n",
       "      <td>Low</td>\n",
       "    </tr>\n",
       "    <tr>\n",
       "      <th>3</th>\n",
       "      <td>MAJOR</td>\n",
       "      <td>2297</td>\n",
       "      <td>N101,R206,N105,N101,N101,N101,N101,N101,N101,N...</td>\n",
       "      <td>2021-09-29 09:00</td>\n",
       "      <td>LIGHT</td>\n",
       "      <td>15.0</td>\n",
       "      <td>1028.0</td>\n",
       "      <td>75.0</td>\n",
       "      <td>1.0</td>\n",
       "      <td>Sem Chuva</td>\n",
       "      <td>Very_High</td>\n",
       "    </tr>\n",
       "    <tr>\n",
       "      <th>4</th>\n",
       "      <td>UNDEFINED</td>\n",
       "      <td>0</td>\n",
       "      <td>N101,N101,N101,N101,N101,</td>\n",
       "      <td>2021-06-13 11:00</td>\n",
       "      <td>LIGHT</td>\n",
       "      <td>27.0</td>\n",
       "      <td>1020.0</td>\n",
       "      <td>52.0</td>\n",
       "      <td>1.0</td>\n",
       "      <td>Sem Chuva</td>\n",
       "      <td>High</td>\n",
       "    </tr>\n",
       "  </tbody>\n",
       "</table>\n",
       "</div>"
      ],
      "text/plain": [
       "  magnitude_of_delay  delay_in_seconds  \\\n",
       "0          UNDEFINED                 0   \n",
       "1          UNDEFINED               385   \n",
       "2          UNDEFINED                69   \n",
       "3              MAJOR              2297   \n",
       "4          UNDEFINED                 0   \n",
       "\n",
       "                                      affected_roads       record_date  \\\n",
       "0                                                  ,  2021-03-15 23:00   \n",
       "1                                              N101,  2021-12-25 18:00   \n",
       "2                                                  ,  2021-03-12 15:00   \n",
       "3  N101,R206,N105,N101,N101,N101,N101,N101,N101,N...  2021-09-29 09:00   \n",
       "4                          N101,N101,N101,N101,N101,  2021-06-13 11:00   \n",
       "\n",
       "  luminosity  avg_temperature  avg_atm_pressure  avg_humidity  avg_wind_speed  \\\n",
       "0       DARK             12.0            1013.0          70.0             1.0   \n",
       "1       DARK             12.0            1007.0          91.0             1.0   \n",
       "2      LIGHT             14.0            1025.0          64.0             0.0   \n",
       "3      LIGHT             15.0            1028.0          75.0             1.0   \n",
       "4      LIGHT             27.0            1020.0          52.0             1.0   \n",
       "\n",
       "    avg_rain  incidents  \n",
       "0  Sem Chuva       None  \n",
       "1  Sem Chuva       None  \n",
       "2  Sem Chuva        Low  \n",
       "3  Sem Chuva  Very_High  \n",
       "4  Sem Chuva       High  "
      ]
     },
     "execution_count": 19,
     "metadata": {},
     "output_type": "execute_result"
    }
   ],
   "source": [
    "testDataSet.drop(['city_name','avg_precipitation'],axis=1,inplace=True)\n",
    "dataSet.drop(['city_name','avg_precipitation'],axis=1,inplace=True)\n",
    "dataSet.head()"
   ]
  },
  {
   "cell_type": "markdown",
   "id": "77ca1628-fb36-46ea-a7db-ce63e1201912",
   "metadata": {
    "tags": []
   },
   "source": [
    "### Remover colunas com dados abnormais"
   ]
  },
  {
   "cell_type": "markdown",
   "id": "7ccf456d-01cc-4600-ab83-8c86ffb17bcb",
   "metadata": {},
   "source": [
    "Depois de analisar que os atributos __'magnitude_of_delay'__ e __'delay_in_seconds'__ possuem uma correlação anormal, decidimos retiar a coluna __'magnitude_of_delay'__."
   ]
  },
  {
   "cell_type": "code",
   "execution_count": 20,
   "id": "80fa13c1-4ada-45dd-a0fd-0064b0e3a462",
   "metadata": {},
   "outputs": [
    {
     "data": {
      "text/html": [
       "<div>\n",
       "<style scoped>\n",
       "    .dataframe tbody tr th:only-of-type {\n",
       "        vertical-align: middle;\n",
       "    }\n",
       "\n",
       "    .dataframe tbody tr th {\n",
       "        vertical-align: top;\n",
       "    }\n",
       "\n",
       "    .dataframe thead th {\n",
       "        text-align: right;\n",
       "    }\n",
       "</style>\n",
       "<table border=\"1\" class=\"dataframe\">\n",
       "  <thead>\n",
       "    <tr style=\"text-align: right;\">\n",
       "      <th></th>\n",
       "      <th>delay_in_seconds</th>\n",
       "      <th>affected_roads</th>\n",
       "      <th>record_date</th>\n",
       "      <th>luminosity</th>\n",
       "      <th>avg_temperature</th>\n",
       "      <th>avg_atm_pressure</th>\n",
       "      <th>avg_humidity</th>\n",
       "      <th>avg_wind_speed</th>\n",
       "      <th>avg_rain</th>\n",
       "      <th>incidents</th>\n",
       "    </tr>\n",
       "  </thead>\n",
       "  <tbody>\n",
       "    <tr>\n",
       "      <th>0</th>\n",
       "      <td>0</td>\n",
       "      <td>,</td>\n",
       "      <td>2021-03-15 23:00</td>\n",
       "      <td>DARK</td>\n",
       "      <td>12.0</td>\n",
       "      <td>1013.0</td>\n",
       "      <td>70.0</td>\n",
       "      <td>1.0</td>\n",
       "      <td>Sem Chuva</td>\n",
       "      <td>None</td>\n",
       "    </tr>\n",
       "    <tr>\n",
       "      <th>1</th>\n",
       "      <td>385</td>\n",
       "      <td>N101,</td>\n",
       "      <td>2021-12-25 18:00</td>\n",
       "      <td>DARK</td>\n",
       "      <td>12.0</td>\n",
       "      <td>1007.0</td>\n",
       "      <td>91.0</td>\n",
       "      <td>1.0</td>\n",
       "      <td>Sem Chuva</td>\n",
       "      <td>None</td>\n",
       "    </tr>\n",
       "    <tr>\n",
       "      <th>2</th>\n",
       "      <td>69</td>\n",
       "      <td>,</td>\n",
       "      <td>2021-03-12 15:00</td>\n",
       "      <td>LIGHT</td>\n",
       "      <td>14.0</td>\n",
       "      <td>1025.0</td>\n",
       "      <td>64.0</td>\n",
       "      <td>0.0</td>\n",
       "      <td>Sem Chuva</td>\n",
       "      <td>Low</td>\n",
       "    </tr>\n",
       "    <tr>\n",
       "      <th>3</th>\n",
       "      <td>2297</td>\n",
       "      <td>N101,R206,N105,N101,N101,N101,N101,N101,N101,N...</td>\n",
       "      <td>2021-09-29 09:00</td>\n",
       "      <td>LIGHT</td>\n",
       "      <td>15.0</td>\n",
       "      <td>1028.0</td>\n",
       "      <td>75.0</td>\n",
       "      <td>1.0</td>\n",
       "      <td>Sem Chuva</td>\n",
       "      <td>Very_High</td>\n",
       "    </tr>\n",
       "    <tr>\n",
       "      <th>4</th>\n",
       "      <td>0</td>\n",
       "      <td>N101,N101,N101,N101,N101,</td>\n",
       "      <td>2021-06-13 11:00</td>\n",
       "      <td>LIGHT</td>\n",
       "      <td>27.0</td>\n",
       "      <td>1020.0</td>\n",
       "      <td>52.0</td>\n",
       "      <td>1.0</td>\n",
       "      <td>Sem Chuva</td>\n",
       "      <td>High</td>\n",
       "    </tr>\n",
       "  </tbody>\n",
       "</table>\n",
       "</div>"
      ],
      "text/plain": [
       "   delay_in_seconds                                     affected_roads  \\\n",
       "0                 0                                                  ,   \n",
       "1               385                                              N101,   \n",
       "2                69                                                  ,   \n",
       "3              2297  N101,R206,N105,N101,N101,N101,N101,N101,N101,N...   \n",
       "4                 0                          N101,N101,N101,N101,N101,   \n",
       "\n",
       "        record_date luminosity  avg_temperature  avg_atm_pressure  \\\n",
       "0  2021-03-15 23:00       DARK             12.0            1013.0   \n",
       "1  2021-12-25 18:00       DARK             12.0            1007.0   \n",
       "2  2021-03-12 15:00      LIGHT             14.0            1025.0   \n",
       "3  2021-09-29 09:00      LIGHT             15.0            1028.0   \n",
       "4  2021-06-13 11:00      LIGHT             27.0            1020.0   \n",
       "\n",
       "   avg_humidity  avg_wind_speed   avg_rain  incidents  \n",
       "0          70.0             1.0  Sem Chuva       None  \n",
       "1          91.0             1.0  Sem Chuva       None  \n",
       "2          64.0             0.0  Sem Chuva        Low  \n",
       "3          75.0             1.0  Sem Chuva  Very_High  \n",
       "4          52.0             1.0  Sem Chuva       High  "
      ]
     },
     "execution_count": 20,
     "metadata": {},
     "output_type": "execute_result"
    }
   ],
   "source": [
    "testDataSet.drop(['magnitude_of_delay'],axis=1,inplace=True)\n",
    "dataSet.drop(['magnitude_of_delay'],axis=1,inplace=True)\n",
    "dataSet.head()"
   ]
  },
  {
   "cell_type": "markdown",
   "id": "5b953184-2929-42c9-a6eb-7b477f75f289",
   "metadata": {
    "tags": []
   },
   "source": [
    "### Adição da coluna Number of Incidents"
   ]
  },
  {
   "cell_type": "markdown",
   "id": "1a091c2b-3e21-4675-82ca-af34e26db9b1",
   "metadata": {},
   "source": [
    "No atributo __'affect_roads'__, existe uma lista de estradas que o acidente afetou. Visto que esta lista possui muitos valores repetidos, podemos inferir que esta corresponde a vários acidentes que ocorreram nessa estrada. Logo, decidimos extrair este número como __'number_of_affected_roads'__.\n",
    "\n",
    "Ao concluir este tratamento podemos ver que existe uma certa relação entre o atributo alvo __'incidents'__ e a nova coluna gerada."
   ]
  },
  {
   "cell_type": "code",
   "execution_count": 21,
   "id": "2997bfbf-8d3d-4dce-b72a-2c950e490cb5",
   "metadata": {},
   "outputs": [
    {
     "data": {
      "text/html": [
       "<div>\n",
       "<style scoped>\n",
       "    .dataframe tbody tr th:only-of-type {\n",
       "        vertical-align: middle;\n",
       "    }\n",
       "\n",
       "    .dataframe tbody tr th {\n",
       "        vertical-align: top;\n",
       "    }\n",
       "\n",
       "    .dataframe thead th {\n",
       "        text-align: right;\n",
       "    }\n",
       "</style>\n",
       "<table border=\"1\" class=\"dataframe\">\n",
       "  <thead>\n",
       "    <tr style=\"text-align: right;\">\n",
       "      <th></th>\n",
       "      <th>delay_in_seconds</th>\n",
       "      <th>affected_roads</th>\n",
       "      <th>record_date</th>\n",
       "      <th>luminosity</th>\n",
       "      <th>avg_temperature</th>\n",
       "      <th>avg_atm_pressure</th>\n",
       "      <th>avg_humidity</th>\n",
       "      <th>avg_wind_speed</th>\n",
       "      <th>avg_rain</th>\n",
       "      <th>incidents</th>\n",
       "      <th>number_of_affected_roads</th>\n",
       "    </tr>\n",
       "  </thead>\n",
       "  <tbody>\n",
       "    <tr>\n",
       "      <th>0</th>\n",
       "      <td>0</td>\n",
       "      <td>,</td>\n",
       "      <td>2021-03-15 23:00</td>\n",
       "      <td>DARK</td>\n",
       "      <td>12.0</td>\n",
       "      <td>1013.0</td>\n",
       "      <td>70.0</td>\n",
       "      <td>1.0</td>\n",
       "      <td>Sem Chuva</td>\n",
       "      <td>None</td>\n",
       "      <td>0</td>\n",
       "    </tr>\n",
       "    <tr>\n",
       "      <th>1</th>\n",
       "      <td>385</td>\n",
       "      <td>N101,</td>\n",
       "      <td>2021-12-25 18:00</td>\n",
       "      <td>DARK</td>\n",
       "      <td>12.0</td>\n",
       "      <td>1007.0</td>\n",
       "      <td>91.0</td>\n",
       "      <td>1.0</td>\n",
       "      <td>Sem Chuva</td>\n",
       "      <td>None</td>\n",
       "      <td>1</td>\n",
       "    </tr>\n",
       "    <tr>\n",
       "      <th>2</th>\n",
       "      <td>69</td>\n",
       "      <td>,</td>\n",
       "      <td>2021-03-12 15:00</td>\n",
       "      <td>LIGHT</td>\n",
       "      <td>14.0</td>\n",
       "      <td>1025.0</td>\n",
       "      <td>64.0</td>\n",
       "      <td>0.0</td>\n",
       "      <td>Sem Chuva</td>\n",
       "      <td>Low</td>\n",
       "      <td>0</td>\n",
       "    </tr>\n",
       "    <tr>\n",
       "      <th>3</th>\n",
       "      <td>2297</td>\n",
       "      <td>N101,R206,N105,N101,N101,N101,N101,N101,N101,N...</td>\n",
       "      <td>2021-09-29 09:00</td>\n",
       "      <td>LIGHT</td>\n",
       "      <td>15.0</td>\n",
       "      <td>1028.0</td>\n",
       "      <td>75.0</td>\n",
       "      <td>1.0</td>\n",
       "      <td>Sem Chuva</td>\n",
       "      <td>Very_High</td>\n",
       "      <td>11</td>\n",
       "    </tr>\n",
       "    <tr>\n",
       "      <th>4</th>\n",
       "      <td>0</td>\n",
       "      <td>N101,N101,N101,N101,N101,</td>\n",
       "      <td>2021-06-13 11:00</td>\n",
       "      <td>LIGHT</td>\n",
       "      <td>27.0</td>\n",
       "      <td>1020.0</td>\n",
       "      <td>52.0</td>\n",
       "      <td>1.0</td>\n",
       "      <td>Sem Chuva</td>\n",
       "      <td>High</td>\n",
       "      <td>5</td>\n",
       "    </tr>\n",
       "  </tbody>\n",
       "</table>\n",
       "</div>"
      ],
      "text/plain": [
       "   delay_in_seconds                                     affected_roads  \\\n",
       "0                 0                                                  ,   \n",
       "1               385                                              N101,   \n",
       "2                69                                                  ,   \n",
       "3              2297  N101,R206,N105,N101,N101,N101,N101,N101,N101,N...   \n",
       "4                 0                          N101,N101,N101,N101,N101,   \n",
       "\n",
       "        record_date luminosity  avg_temperature  avg_atm_pressure  \\\n",
       "0  2021-03-15 23:00       DARK             12.0            1013.0   \n",
       "1  2021-12-25 18:00       DARK             12.0            1007.0   \n",
       "2  2021-03-12 15:00      LIGHT             14.0            1025.0   \n",
       "3  2021-09-29 09:00      LIGHT             15.0            1028.0   \n",
       "4  2021-06-13 11:00      LIGHT             27.0            1020.0   \n",
       "\n",
       "   avg_humidity  avg_wind_speed   avg_rain  incidents  \\\n",
       "0          70.0             1.0  Sem Chuva       None   \n",
       "1          91.0             1.0  Sem Chuva       None   \n",
       "2          64.0             0.0  Sem Chuva        Low   \n",
       "3          75.0             1.0  Sem Chuva  Very_High   \n",
       "4          52.0             1.0  Sem Chuva       High   \n",
       "\n",
       "   number_of_affected_roads  \n",
       "0                         0  \n",
       "1                         1  \n",
       "2                         0  \n",
       "3                        11  \n",
       "4                         5  "
      ]
     },
     "execution_count": 21,
     "metadata": {},
     "output_type": "execute_result"
    }
   ],
   "source": [
    "numberOfAfRoads = []\n",
    "for value in testDataSetOrig['affected_roads']:\n",
    "    numberOfAfRoads.append(len(list(filter(None, str(value).split(\",\")))))\n",
    "    \n",
    "testDataSet['number_of_affected_roads'] = numberOfAfRoads\n",
    "\n",
    "\n",
    "numberOfAfRoads = []\n",
    "for value in dataSetOrig['affected_roads']:\n",
    "    numberOfAfRoads.append(len(list(filter(None, str(value).split(\",\")))))\n",
    "    \n",
    "dataSet['number_of_affected_roads'] = numberOfAfRoads\n",
    "dataSet.head()"
   ]
  },
  {
   "cell_type": "markdown",
   "id": "75dbefb7-2a3d-43e9-aa30-7d542ae45a1c",
   "metadata": {
    "tags": []
   },
   "source": [
    "### Remover Affected Roads duplicados"
   ]
  },
  {
   "cell_type": "markdown",
   "id": "960f7efd-49d5-4c15-9f1d-91990ca8f993",
   "metadata": {},
   "source": [
    "Com a coluna __'number_of_incidents'__ extraida, decidimos remover as estradas repetidas presentes no __'affected_roads'__."
   ]
  },
  {
   "cell_type": "code",
   "execution_count": 22,
   "id": "ff06d883-92f5-4e7a-99b5-2b28f941da4b",
   "metadata": {},
   "outputs": [
    {
     "data": {
      "text/html": [
       "<div>\n",
       "<style scoped>\n",
       "    .dataframe tbody tr th:only-of-type {\n",
       "        vertical-align: middle;\n",
       "    }\n",
       "\n",
       "    .dataframe tbody tr th {\n",
       "        vertical-align: top;\n",
       "    }\n",
       "\n",
       "    .dataframe thead th {\n",
       "        text-align: right;\n",
       "    }\n",
       "</style>\n",
       "<table border=\"1\" class=\"dataframe\">\n",
       "  <thead>\n",
       "    <tr style=\"text-align: right;\">\n",
       "      <th></th>\n",
       "      <th>delay_in_seconds</th>\n",
       "      <th>affected_roads</th>\n",
       "      <th>record_date</th>\n",
       "      <th>luminosity</th>\n",
       "      <th>avg_temperature</th>\n",
       "      <th>avg_atm_pressure</th>\n",
       "      <th>avg_humidity</th>\n",
       "      <th>avg_wind_speed</th>\n",
       "      <th>avg_rain</th>\n",
       "      <th>incidents</th>\n",
       "      <th>number_of_affected_roads</th>\n",
       "    </tr>\n",
       "  </thead>\n",
       "  <tbody>\n",
       "    <tr>\n",
       "      <th>0</th>\n",
       "      <td>0</td>\n",
       "      <td>,</td>\n",
       "      <td>2021-03-15 23:00</td>\n",
       "      <td>DARK</td>\n",
       "      <td>12.0</td>\n",
       "      <td>1013.0</td>\n",
       "      <td>70.0</td>\n",
       "      <td>1.0</td>\n",
       "      <td>Sem Chuva</td>\n",
       "      <td>None</td>\n",
       "      <td>0</td>\n",
       "    </tr>\n",
       "    <tr>\n",
       "      <th>1</th>\n",
       "      <td>385</td>\n",
       "      <td>N101,</td>\n",
       "      <td>2021-12-25 18:00</td>\n",
       "      <td>DARK</td>\n",
       "      <td>12.0</td>\n",
       "      <td>1007.0</td>\n",
       "      <td>91.0</td>\n",
       "      <td>1.0</td>\n",
       "      <td>Sem Chuva</td>\n",
       "      <td>None</td>\n",
       "      <td>1</td>\n",
       "    </tr>\n",
       "    <tr>\n",
       "      <th>2</th>\n",
       "      <td>69</td>\n",
       "      <td>,</td>\n",
       "      <td>2021-03-12 15:00</td>\n",
       "      <td>LIGHT</td>\n",
       "      <td>14.0</td>\n",
       "      <td>1025.0</td>\n",
       "      <td>64.0</td>\n",
       "      <td>0.0</td>\n",
       "      <td>Sem Chuva</td>\n",
       "      <td>Low</td>\n",
       "      <td>0</td>\n",
       "    </tr>\n",
       "    <tr>\n",
       "      <th>3</th>\n",
       "      <td>2297</td>\n",
       "      <td>N101,N105,R206,</td>\n",
       "      <td>2021-09-29 09:00</td>\n",
       "      <td>LIGHT</td>\n",
       "      <td>15.0</td>\n",
       "      <td>1028.0</td>\n",
       "      <td>75.0</td>\n",
       "      <td>1.0</td>\n",
       "      <td>Sem Chuva</td>\n",
       "      <td>Very_High</td>\n",
       "      <td>11</td>\n",
       "    </tr>\n",
       "    <tr>\n",
       "      <th>4</th>\n",
       "      <td>0</td>\n",
       "      <td>N101,</td>\n",
       "      <td>2021-06-13 11:00</td>\n",
       "      <td>LIGHT</td>\n",
       "      <td>27.0</td>\n",
       "      <td>1020.0</td>\n",
       "      <td>52.0</td>\n",
       "      <td>1.0</td>\n",
       "      <td>Sem Chuva</td>\n",
       "      <td>High</td>\n",
       "      <td>5</td>\n",
       "    </tr>\n",
       "  </tbody>\n",
       "</table>\n",
       "</div>"
      ],
      "text/plain": [
       "   delay_in_seconds   affected_roads       record_date luminosity  \\\n",
       "0                 0                ,  2021-03-15 23:00       DARK   \n",
       "1               385            N101,  2021-12-25 18:00       DARK   \n",
       "2                69                ,  2021-03-12 15:00      LIGHT   \n",
       "3              2297  N101,N105,R206,  2021-09-29 09:00      LIGHT   \n",
       "4                 0            N101,  2021-06-13 11:00      LIGHT   \n",
       "\n",
       "   avg_temperature  avg_atm_pressure  avg_humidity  avg_wind_speed   avg_rain  \\\n",
       "0             12.0            1013.0          70.0             1.0  Sem Chuva   \n",
       "1             12.0            1007.0          91.0             1.0  Sem Chuva   \n",
       "2             14.0            1025.0          64.0             0.0  Sem Chuva   \n",
       "3             15.0            1028.0          75.0             1.0  Sem Chuva   \n",
       "4             27.0            1020.0          52.0             1.0  Sem Chuva   \n",
       "\n",
       "   incidents  number_of_affected_roads  \n",
       "0       None                         0  \n",
       "1       None                         1  \n",
       "2        Low                         0  \n",
       "3  Very_High                        11  \n",
       "4       High                         5  "
      ]
     },
     "execution_count": 22,
     "metadata": {},
     "output_type": "execute_result"
    }
   ],
   "source": [
    "res = [] \n",
    "for value in testDataSetOrig['affected_roads']:\n",
    "    aux = np.unique(list(filter(None, str(value).split(\",\"))))\n",
    "    tmp = \"\"\n",
    "    for elem in aux:\n",
    "        tmp += str(elem)+\",\"\n",
    "    if len(aux) == 0:\n",
    "        tmp += \",\"\n",
    "    res.append(tmp)\n",
    "        \n",
    "testDataSet['affected_roads'] = res\n",
    "\n",
    "\n",
    "res = [] \n",
    "for value in dataSetOrig['affected_roads']:\n",
    "    aux = np.unique(list(filter(None, str(value).split(\",\"))))\n",
    "    tmp = \"\"\n",
    "    for elem in aux:\n",
    "        tmp += str(elem)+\",\"\n",
    "    if len(aux) == 0:\n",
    "        tmp += \",\"\n",
    "    res.append(tmp)\n",
    "        \n",
    "dataSet['affected_roads'] = res\n",
    "dataSet.head()"
   ]
  },
  {
   "cell_type": "markdown",
   "id": "3be41681-17ce-4de7-aee0-1e13fba6be93",
   "metadata": {
    "tags": []
   },
   "source": [
    "### Adição da coluna Unique roads affected"
   ]
  },
  {
   "cell_type": "markdown",
   "id": "3fd826de-c481-4c02-a78f-7d2b7baf71f7",
   "metadata": {},
   "source": [
    "Com a lista de estradas afetadas reduzida aos seus valores únicos, decidimos extrair este para uma coluna chamada __'unique_roads_affected'__."
   ]
  },
  {
   "cell_type": "code",
   "execution_count": 23,
   "id": "f11e44fd-ed70-483f-b8d2-83f48c8e948e",
   "metadata": {},
   "outputs": [
    {
     "data": {
      "text/html": [
       "<div>\n",
       "<style scoped>\n",
       "    .dataframe tbody tr th:only-of-type {\n",
       "        vertical-align: middle;\n",
       "    }\n",
       "\n",
       "    .dataframe tbody tr th {\n",
       "        vertical-align: top;\n",
       "    }\n",
       "\n",
       "    .dataframe thead th {\n",
       "        text-align: right;\n",
       "    }\n",
       "</style>\n",
       "<table border=\"1\" class=\"dataframe\">\n",
       "  <thead>\n",
       "    <tr style=\"text-align: right;\">\n",
       "      <th></th>\n",
       "      <th>delay_in_seconds</th>\n",
       "      <th>affected_roads</th>\n",
       "      <th>record_date</th>\n",
       "      <th>luminosity</th>\n",
       "      <th>avg_temperature</th>\n",
       "      <th>avg_atm_pressure</th>\n",
       "      <th>avg_humidity</th>\n",
       "      <th>avg_wind_speed</th>\n",
       "      <th>avg_rain</th>\n",
       "      <th>incidents</th>\n",
       "      <th>number_of_affected_roads</th>\n",
       "      <th>unique_roads_affected</th>\n",
       "    </tr>\n",
       "  </thead>\n",
       "  <tbody>\n",
       "    <tr>\n",
       "      <th>0</th>\n",
       "      <td>0</td>\n",
       "      <td>,</td>\n",
       "      <td>2021-03-15 23:00</td>\n",
       "      <td>DARK</td>\n",
       "      <td>12.0</td>\n",
       "      <td>1013.0</td>\n",
       "      <td>70.0</td>\n",
       "      <td>1.0</td>\n",
       "      <td>Sem Chuva</td>\n",
       "      <td>None</td>\n",
       "      <td>0</td>\n",
       "      <td>0</td>\n",
       "    </tr>\n",
       "    <tr>\n",
       "      <th>1</th>\n",
       "      <td>385</td>\n",
       "      <td>N101,</td>\n",
       "      <td>2021-12-25 18:00</td>\n",
       "      <td>DARK</td>\n",
       "      <td>12.0</td>\n",
       "      <td>1007.0</td>\n",
       "      <td>91.0</td>\n",
       "      <td>1.0</td>\n",
       "      <td>Sem Chuva</td>\n",
       "      <td>None</td>\n",
       "      <td>1</td>\n",
       "      <td>1</td>\n",
       "    </tr>\n",
       "    <tr>\n",
       "      <th>2</th>\n",
       "      <td>69</td>\n",
       "      <td>,</td>\n",
       "      <td>2021-03-12 15:00</td>\n",
       "      <td>LIGHT</td>\n",
       "      <td>14.0</td>\n",
       "      <td>1025.0</td>\n",
       "      <td>64.0</td>\n",
       "      <td>0.0</td>\n",
       "      <td>Sem Chuva</td>\n",
       "      <td>Low</td>\n",
       "      <td>0</td>\n",
       "      <td>0</td>\n",
       "    </tr>\n",
       "    <tr>\n",
       "      <th>3</th>\n",
       "      <td>2297</td>\n",
       "      <td>N101,N105,R206,</td>\n",
       "      <td>2021-09-29 09:00</td>\n",
       "      <td>LIGHT</td>\n",
       "      <td>15.0</td>\n",
       "      <td>1028.0</td>\n",
       "      <td>75.0</td>\n",
       "      <td>1.0</td>\n",
       "      <td>Sem Chuva</td>\n",
       "      <td>Very_High</td>\n",
       "      <td>11</td>\n",
       "      <td>3</td>\n",
       "    </tr>\n",
       "    <tr>\n",
       "      <th>4</th>\n",
       "      <td>0</td>\n",
       "      <td>N101,</td>\n",
       "      <td>2021-06-13 11:00</td>\n",
       "      <td>LIGHT</td>\n",
       "      <td>27.0</td>\n",
       "      <td>1020.0</td>\n",
       "      <td>52.0</td>\n",
       "      <td>1.0</td>\n",
       "      <td>Sem Chuva</td>\n",
       "      <td>High</td>\n",
       "      <td>5</td>\n",
       "      <td>1</td>\n",
       "    </tr>\n",
       "  </tbody>\n",
       "</table>\n",
       "</div>"
      ],
      "text/plain": [
       "   delay_in_seconds   affected_roads       record_date luminosity  \\\n",
       "0                 0                ,  2021-03-15 23:00       DARK   \n",
       "1               385            N101,  2021-12-25 18:00       DARK   \n",
       "2                69                ,  2021-03-12 15:00      LIGHT   \n",
       "3              2297  N101,N105,R206,  2021-09-29 09:00      LIGHT   \n",
       "4                 0            N101,  2021-06-13 11:00      LIGHT   \n",
       "\n",
       "   avg_temperature  avg_atm_pressure  avg_humidity  avg_wind_speed   avg_rain  \\\n",
       "0             12.0            1013.0          70.0             1.0  Sem Chuva   \n",
       "1             12.0            1007.0          91.0             1.0  Sem Chuva   \n",
       "2             14.0            1025.0          64.0             0.0  Sem Chuva   \n",
       "3             15.0            1028.0          75.0             1.0  Sem Chuva   \n",
       "4             27.0            1020.0          52.0             1.0  Sem Chuva   \n",
       "\n",
       "   incidents  number_of_affected_roads  unique_roads_affected  \n",
       "0       None                         0                      0  \n",
       "1       None                         1                      1  \n",
       "2        Low                         0                      0  \n",
       "3  Very_High                        11                      3  \n",
       "4       High                         5                      1  "
      ]
     },
     "execution_count": 23,
     "metadata": {},
     "output_type": "execute_result"
    }
   ],
   "source": [
    "uniqueRoadsAff = []\n",
    "for value in testDataSet['affected_roads']:\n",
    "    uniqueRoadsAff.append(len(list(filter(None, str(value).split(\",\")))))\n",
    "    \n",
    "testDataSet['unique_roads_affected'] = uniqueRoadsAff\n",
    "\n",
    "\n",
    "uniqueRoadsAff = []\n",
    "for value in dataSet['affected_roads']:\n",
    "    uniqueRoadsAff.append(len(list(filter(None, str(value).split(\",\")))))\n",
    "    \n",
    "dataSet['unique_roads_affected'] = uniqueRoadsAff\n",
    "dataSet.head()"
   ]
  },
  {
   "cell_type": "markdown",
   "id": "a06b0a47-63cc-4714-9e29-f2543b7e6412",
   "metadata": {
    "tags": []
   },
   "source": [
    "### Extrair Mês / Hora / Dia da Semana / Feriado do Incidente"
   ]
  },
  {
   "cell_type": "markdown",
   "id": "ee63f438-e597-4633-a60b-60090adebff7",
   "metadata": {},
   "source": [
    "Através da data fornecida no atributo __'record_date'__, decidimos extrair novas informações como o Mês, Hora, Dia da semana e caso este dia corresponda a um feriado visto que estes dados poderão ajudar o modelo na previsão do número de acidentes."
   ]
  },
  {
   "cell_type": "code",
   "execution_count": 24,
   "id": "0f0b3c75-57e5-41f7-8684-b5e39cf5d969",
   "metadata": {},
   "outputs": [
    {
     "data": {
      "text/html": [
       "<div>\n",
       "<style scoped>\n",
       "    .dataframe tbody tr th:only-of-type {\n",
       "        vertical-align: middle;\n",
       "    }\n",
       "\n",
       "    .dataframe tbody tr th {\n",
       "        vertical-align: top;\n",
       "    }\n",
       "\n",
       "    .dataframe thead th {\n",
       "        text-align: right;\n",
       "    }\n",
       "</style>\n",
       "<table border=\"1\" class=\"dataframe\">\n",
       "  <thead>\n",
       "    <tr style=\"text-align: right;\">\n",
       "      <th></th>\n",
       "      <th>delay_in_seconds</th>\n",
       "      <th>affected_roads</th>\n",
       "      <th>luminosity</th>\n",
       "      <th>avg_temperature</th>\n",
       "      <th>avg_atm_pressure</th>\n",
       "      <th>avg_humidity</th>\n",
       "      <th>avg_wind_speed</th>\n",
       "      <th>avg_rain</th>\n",
       "      <th>incidents</th>\n",
       "      <th>number_of_affected_roads</th>\n",
       "      <th>unique_roads_affected</th>\n",
       "      <th>month</th>\n",
       "      <th>hour</th>\n",
       "      <th>week_day</th>\n",
       "      <th>holiday</th>\n",
       "    </tr>\n",
       "  </thead>\n",
       "  <tbody>\n",
       "    <tr>\n",
       "      <th>0</th>\n",
       "      <td>0</td>\n",
       "      <td>,</td>\n",
       "      <td>DARK</td>\n",
       "      <td>12.0</td>\n",
       "      <td>1013.0</td>\n",
       "      <td>70.0</td>\n",
       "      <td>1.0</td>\n",
       "      <td>Sem Chuva</td>\n",
       "      <td>None</td>\n",
       "      <td>0</td>\n",
       "      <td>0</td>\n",
       "      <td>03</td>\n",
       "      <td>23</td>\n",
       "      <td>0</td>\n",
       "      <td>0</td>\n",
       "    </tr>\n",
       "    <tr>\n",
       "      <th>1</th>\n",
       "      <td>385</td>\n",
       "      <td>N101,</td>\n",
       "      <td>DARK</td>\n",
       "      <td>12.0</td>\n",
       "      <td>1007.0</td>\n",
       "      <td>91.0</td>\n",
       "      <td>1.0</td>\n",
       "      <td>Sem Chuva</td>\n",
       "      <td>None</td>\n",
       "      <td>1</td>\n",
       "      <td>1</td>\n",
       "      <td>12</td>\n",
       "      <td>18</td>\n",
       "      <td>5</td>\n",
       "      <td>1</td>\n",
       "    </tr>\n",
       "    <tr>\n",
       "      <th>2</th>\n",
       "      <td>69</td>\n",
       "      <td>,</td>\n",
       "      <td>LIGHT</td>\n",
       "      <td>14.0</td>\n",
       "      <td>1025.0</td>\n",
       "      <td>64.0</td>\n",
       "      <td>0.0</td>\n",
       "      <td>Sem Chuva</td>\n",
       "      <td>Low</td>\n",
       "      <td>0</td>\n",
       "      <td>0</td>\n",
       "      <td>03</td>\n",
       "      <td>15</td>\n",
       "      <td>4</td>\n",
       "      <td>0</td>\n",
       "    </tr>\n",
       "    <tr>\n",
       "      <th>3</th>\n",
       "      <td>2297</td>\n",
       "      <td>N101,N105,R206,</td>\n",
       "      <td>LIGHT</td>\n",
       "      <td>15.0</td>\n",
       "      <td>1028.0</td>\n",
       "      <td>75.0</td>\n",
       "      <td>1.0</td>\n",
       "      <td>Sem Chuva</td>\n",
       "      <td>Very_High</td>\n",
       "      <td>11</td>\n",
       "      <td>3</td>\n",
       "      <td>09</td>\n",
       "      <td>09</td>\n",
       "      <td>2</td>\n",
       "      <td>0</td>\n",
       "    </tr>\n",
       "    <tr>\n",
       "      <th>4</th>\n",
       "      <td>0</td>\n",
       "      <td>N101,</td>\n",
       "      <td>LIGHT</td>\n",
       "      <td>27.0</td>\n",
       "      <td>1020.0</td>\n",
       "      <td>52.0</td>\n",
       "      <td>1.0</td>\n",
       "      <td>Sem Chuva</td>\n",
       "      <td>High</td>\n",
       "      <td>5</td>\n",
       "      <td>1</td>\n",
       "      <td>06</td>\n",
       "      <td>11</td>\n",
       "      <td>6</td>\n",
       "      <td>0</td>\n",
       "    </tr>\n",
       "  </tbody>\n",
       "</table>\n",
       "</div>"
      ],
      "text/plain": [
       "   delay_in_seconds   affected_roads luminosity  avg_temperature  \\\n",
       "0                 0                ,       DARK             12.0   \n",
       "1               385            N101,       DARK             12.0   \n",
       "2                69                ,      LIGHT             14.0   \n",
       "3              2297  N101,N105,R206,      LIGHT             15.0   \n",
       "4                 0            N101,      LIGHT             27.0   \n",
       "\n",
       "   avg_atm_pressure  avg_humidity  avg_wind_speed   avg_rain  incidents  \\\n",
       "0            1013.0          70.0             1.0  Sem Chuva       None   \n",
       "1            1007.0          91.0             1.0  Sem Chuva       None   \n",
       "2            1025.0          64.0             0.0  Sem Chuva        Low   \n",
       "3            1028.0          75.0             1.0  Sem Chuva  Very_High   \n",
       "4            1020.0          52.0             1.0  Sem Chuva       High   \n",
       "\n",
       "   number_of_affected_roads  unique_roads_affected month hour  week_day  \\\n",
       "0                         0                      0    03   23         0   \n",
       "1                         1                      1    12   18         5   \n",
       "2                         0                      0    03   15         4   \n",
       "3                        11                      3    09   09         2   \n",
       "4                         5                      1    06   11         6   \n",
       "\n",
       "   holiday  \n",
       "0        0  \n",
       "1        1  \n",
       "2        0  \n",
       "3        0  \n",
       "4        0  "
      ]
     },
     "execution_count": 24,
     "metadata": {},
     "output_type": "execute_result"
    }
   ],
   "source": [
    "import re\n",
    "import datetime\n",
    "import holidays\n",
    "pattern=\"(\\d{4})-(\\d\\d)-(\\d\\d) (\\d\\d):\\d\\d\"\n",
    "\n",
    "\n",
    "monthNumberList = []\n",
    "hourNumberList = []\n",
    "weekDayNumberList = []\n",
    "feriadoList = []\n",
    "for value in testDataSetOrig['record_date']:\n",
    "    rege = re.search(pattern,str(value))\n",
    "    actDate = datetime.datetime(int(rege.group(1)), int(rege.group(2)), int(rege.group(3)))\n",
    "    isferiado = False\n",
    "    for feriados in holidays.Portugal(years=2021).items():\n",
    "        if(str(feriados[0]) == str(actDate.date())):\n",
    "            isferiado = True\n",
    "    \n",
    "    \n",
    "    monthNumberList.append(rege.group(2))\n",
    "    hourNumberList.append(rege.group(4))\n",
    "    weekDayNumberList.append(actDate.weekday())\n",
    "    if (isferiado):\n",
    "        feriadoList.append(int(1))\n",
    "    else:\n",
    "        feriadoList.append(int(0))\n",
    "    \n",
    "testDataSet['month'] = monthNumberList\n",
    "testDataSet['hour'] = hourNumberList\n",
    "testDataSet['week_day'] = weekDayNumberList\n",
    "testDataSet['holiday'] = feriadoList\n",
    "testDataSet.drop(['record_date'],axis=1,inplace=True)\n",
    "\n",
    "\n",
    "monthNumberList = []\n",
    "hourNumberList = []\n",
    "weekDayNumberList = []\n",
    "feriadoList = []\n",
    "for value in dataSetOrig['record_date']:\n",
    "    rege = re.search(pattern,str(value))\n",
    "    actDate = datetime.datetime(int(rege.group(1)), int(rege.group(2)), int(rege.group(3)))\n",
    "    isferiado = False\n",
    "    for feriados in holidays.Portugal(years=2021).items():\n",
    "        if(str(feriados[0]) == str(actDate.date())):\n",
    "            isferiado = True\n",
    "    \n",
    "    \n",
    "    monthNumberList.append(rege.group(2))\n",
    "    hourNumberList.append(rege.group(4))\n",
    "    weekDayNumberList.append(actDate.weekday())\n",
    "    if (isferiado):\n",
    "        feriadoList.append(int(1))\n",
    "    else:\n",
    "        feriadoList.append(int(0))\n",
    "    \n",
    "dataSet['month'] = monthNumberList\n",
    "dataSet['hour'] = hourNumberList\n",
    "dataSet['week_day'] = weekDayNumberList\n",
    "dataSet['holiday'] = feriadoList\n",
    "dataSet.drop(['record_date'],axis=1,inplace=True)\n",
    "dataSet.head()"
   ]
  },
  {
   "cell_type": "markdown",
   "id": "817f31eb-5fa9-432e-a6e4-17c289eb0baa",
   "metadata": {
    "tags": []
   },
   "source": [
    "### Label Encoding: Avg Rain"
   ]
  },
  {
   "cell_type": "markdown",
   "id": "53a2e335-ac67-4602-b0a8-1dd8db226d31",
   "metadata": {},
   "source": [
    "Decidimos aplicar a técnica de __Label Encoding__ no atributo __'avg_rain'__"
   ]
  },
  {
   "cell_type": "code",
   "execution_count": 25,
   "id": "7f52ecd5-68f7-44a5-a2eb-90c5ddb60e42",
   "metadata": {},
   "outputs": [
    {
     "name": "stdout",
     "output_type": "stream",
     "text": [
      "['Sem Chuva' 'chuva moderada' 'chuva fraca' 'chuva forte']\n"
     ]
    },
    {
     "data": {
      "text/html": [
       "<div>\n",
       "<style scoped>\n",
       "    .dataframe tbody tr th:only-of-type {\n",
       "        vertical-align: middle;\n",
       "    }\n",
       "\n",
       "    .dataframe tbody tr th {\n",
       "        vertical-align: top;\n",
       "    }\n",
       "\n",
       "    .dataframe thead th {\n",
       "        text-align: right;\n",
       "    }\n",
       "</style>\n",
       "<table border=\"1\" class=\"dataframe\">\n",
       "  <thead>\n",
       "    <tr style=\"text-align: right;\">\n",
       "      <th></th>\n",
       "      <th>delay_in_seconds</th>\n",
       "      <th>affected_roads</th>\n",
       "      <th>luminosity</th>\n",
       "      <th>avg_temperature</th>\n",
       "      <th>avg_atm_pressure</th>\n",
       "      <th>avg_humidity</th>\n",
       "      <th>avg_wind_speed</th>\n",
       "      <th>incidents</th>\n",
       "      <th>number_of_affected_roads</th>\n",
       "      <th>unique_roads_affected</th>\n",
       "      <th>month</th>\n",
       "      <th>hour</th>\n",
       "      <th>week_day</th>\n",
       "      <th>holiday</th>\n",
       "      <th>avg_rain</th>\n",
       "    </tr>\n",
       "  </thead>\n",
       "  <tbody>\n",
       "    <tr>\n",
       "      <th>0</th>\n",
       "      <td>0</td>\n",
       "      <td>,</td>\n",
       "      <td>DARK</td>\n",
       "      <td>12.0</td>\n",
       "      <td>1013.0</td>\n",
       "      <td>70.0</td>\n",
       "      <td>1.0</td>\n",
       "      <td>None</td>\n",
       "      <td>0</td>\n",
       "      <td>0</td>\n",
       "      <td>03</td>\n",
       "      <td>23</td>\n",
       "      <td>0</td>\n",
       "      <td>0</td>\n",
       "      <td>0</td>\n",
       "    </tr>\n",
       "    <tr>\n",
       "      <th>1</th>\n",
       "      <td>385</td>\n",
       "      <td>N101,</td>\n",
       "      <td>DARK</td>\n",
       "      <td>12.0</td>\n",
       "      <td>1007.0</td>\n",
       "      <td>91.0</td>\n",
       "      <td>1.0</td>\n",
       "      <td>None</td>\n",
       "      <td>1</td>\n",
       "      <td>1</td>\n",
       "      <td>12</td>\n",
       "      <td>18</td>\n",
       "      <td>5</td>\n",
       "      <td>1</td>\n",
       "      <td>0</td>\n",
       "    </tr>\n",
       "    <tr>\n",
       "      <th>2</th>\n",
       "      <td>69</td>\n",
       "      <td>,</td>\n",
       "      <td>LIGHT</td>\n",
       "      <td>14.0</td>\n",
       "      <td>1025.0</td>\n",
       "      <td>64.0</td>\n",
       "      <td>0.0</td>\n",
       "      <td>Low</td>\n",
       "      <td>0</td>\n",
       "      <td>0</td>\n",
       "      <td>03</td>\n",
       "      <td>15</td>\n",
       "      <td>4</td>\n",
       "      <td>0</td>\n",
       "      <td>0</td>\n",
       "    </tr>\n",
       "    <tr>\n",
       "      <th>3</th>\n",
       "      <td>2297</td>\n",
       "      <td>N101,N105,R206,</td>\n",
       "      <td>LIGHT</td>\n",
       "      <td>15.0</td>\n",
       "      <td>1028.0</td>\n",
       "      <td>75.0</td>\n",
       "      <td>1.0</td>\n",
       "      <td>Very_High</td>\n",
       "      <td>11</td>\n",
       "      <td>3</td>\n",
       "      <td>09</td>\n",
       "      <td>09</td>\n",
       "      <td>2</td>\n",
       "      <td>0</td>\n",
       "      <td>0</td>\n",
       "    </tr>\n",
       "    <tr>\n",
       "      <th>4</th>\n",
       "      <td>0</td>\n",
       "      <td>N101,</td>\n",
       "      <td>LIGHT</td>\n",
       "      <td>27.0</td>\n",
       "      <td>1020.0</td>\n",
       "      <td>52.0</td>\n",
       "      <td>1.0</td>\n",
       "      <td>High</td>\n",
       "      <td>5</td>\n",
       "      <td>1</td>\n",
       "      <td>06</td>\n",
       "      <td>11</td>\n",
       "      <td>6</td>\n",
       "      <td>0</td>\n",
       "      <td>0</td>\n",
       "    </tr>\n",
       "  </tbody>\n",
       "</table>\n",
       "</div>"
      ],
      "text/plain": [
       "   delay_in_seconds   affected_roads luminosity  avg_temperature  \\\n",
       "0                 0                ,       DARK             12.0   \n",
       "1               385            N101,       DARK             12.0   \n",
       "2                69                ,      LIGHT             14.0   \n",
       "3              2297  N101,N105,R206,      LIGHT             15.0   \n",
       "4                 0            N101,      LIGHT             27.0   \n",
       "\n",
       "   avg_atm_pressure  avg_humidity  avg_wind_speed  incidents  \\\n",
       "0            1013.0          70.0             1.0       None   \n",
       "1            1007.0          91.0             1.0       None   \n",
       "2            1025.0          64.0             0.0        Low   \n",
       "3            1028.0          75.0             1.0  Very_High   \n",
       "4            1020.0          52.0             1.0       High   \n",
       "\n",
       "   number_of_affected_roads  unique_roads_affected month hour  week_day  \\\n",
       "0                         0                      0    03   23         0   \n",
       "1                         1                      1    12   18         5   \n",
       "2                         0                      0    03   15         4   \n",
       "3                        11                      3    09   09         2   \n",
       "4                         5                      1    06   11         6   \n",
       "\n",
       "   holiday  avg_rain  \n",
       "0        0         0  \n",
       "1        1         0  \n",
       "2        0         0  \n",
       "3        0         0  \n",
       "4        0         0  "
      ]
     },
     "execution_count": 25,
     "metadata": {},
     "output_type": "execute_result"
    }
   ],
   "source": [
    "print(dataSetOrig['avg_rain'].unique())\n",
    "\n",
    "convertChuvDict = {\n",
    "    'Sem Chuva':0,\n",
    "    'chuva moderada':1,\n",
    "    'chuva fraca':2,\n",
    "    'chuva forte':3\n",
    "}\n",
    "\n",
    "avgChuvaList = []\n",
    "for value in testDataSetOrig['avg_rain']:\n",
    "    avgChuvaList.append(convertChuvDict[str(value)])\n",
    "\n",
    "testDataSet.drop(['avg_rain'],axis=1,inplace=True)    \n",
    "testDataSet['avg_rain'] = avgChuvaList\n",
    "\n",
    "\n",
    "\n",
    "avgChuvaList = []\n",
    "for value in dataSetOrig['avg_rain']:\n",
    "    avgChuvaList.append(convertChuvDict[str(value)])\n",
    "\n",
    "dataSet.drop(['avg_rain'],axis=1,inplace=True)    \n",
    "dataSet['avg_rain'] = avgChuvaList\n",
    "dataSet.head()"
   ]
  },
  {
   "cell_type": "markdown",
   "id": "c16634cf-f721-45be-b3e3-45463da956a6",
   "metadata": {
    "tags": []
   },
   "source": [
    "### Label Encoding: Luminosity"
   ]
  },
  {
   "cell_type": "markdown",
   "id": "dd96f4bc-2632-4a40-bac0-6f1c6bf7382c",
   "metadata": {},
   "source": [
    "Decidimos aplicar a técnica de __Label Encoding__ no atributo __'luminosity'__"
   ]
  },
  {
   "cell_type": "code",
   "execution_count": 26,
   "id": "9523c9c7-1237-4ea5-bf5b-1aac94950a4a",
   "metadata": {},
   "outputs": [
    {
     "name": "stdout",
     "output_type": "stream",
     "text": [
      "['DARK' 'LIGHT' 'LOW_LIGHT']\n"
     ]
    },
    {
     "data": {
      "text/html": [
       "<div>\n",
       "<style scoped>\n",
       "    .dataframe tbody tr th:only-of-type {\n",
       "        vertical-align: middle;\n",
       "    }\n",
       "\n",
       "    .dataframe tbody tr th {\n",
       "        vertical-align: top;\n",
       "    }\n",
       "\n",
       "    .dataframe thead th {\n",
       "        text-align: right;\n",
       "    }\n",
       "</style>\n",
       "<table border=\"1\" class=\"dataframe\">\n",
       "  <thead>\n",
       "    <tr style=\"text-align: right;\">\n",
       "      <th></th>\n",
       "      <th>delay_in_seconds</th>\n",
       "      <th>affected_roads</th>\n",
       "      <th>avg_temperature</th>\n",
       "      <th>avg_atm_pressure</th>\n",
       "      <th>avg_humidity</th>\n",
       "      <th>avg_wind_speed</th>\n",
       "      <th>incidents</th>\n",
       "      <th>number_of_affected_roads</th>\n",
       "      <th>unique_roads_affected</th>\n",
       "      <th>month</th>\n",
       "      <th>hour</th>\n",
       "      <th>week_day</th>\n",
       "      <th>holiday</th>\n",
       "      <th>avg_rain</th>\n",
       "      <th>luminosity</th>\n",
       "    </tr>\n",
       "  </thead>\n",
       "  <tbody>\n",
       "    <tr>\n",
       "      <th>0</th>\n",
       "      <td>0</td>\n",
       "      <td>,</td>\n",
       "      <td>12.0</td>\n",
       "      <td>1013.0</td>\n",
       "      <td>70.0</td>\n",
       "      <td>1.0</td>\n",
       "      <td>None</td>\n",
       "      <td>0</td>\n",
       "      <td>0</td>\n",
       "      <td>03</td>\n",
       "      <td>23</td>\n",
       "      <td>0</td>\n",
       "      <td>0</td>\n",
       "      <td>0</td>\n",
       "      <td>0</td>\n",
       "    </tr>\n",
       "    <tr>\n",
       "      <th>1</th>\n",
       "      <td>385</td>\n",
       "      <td>N101,</td>\n",
       "      <td>12.0</td>\n",
       "      <td>1007.0</td>\n",
       "      <td>91.0</td>\n",
       "      <td>1.0</td>\n",
       "      <td>None</td>\n",
       "      <td>1</td>\n",
       "      <td>1</td>\n",
       "      <td>12</td>\n",
       "      <td>18</td>\n",
       "      <td>5</td>\n",
       "      <td>1</td>\n",
       "      <td>0</td>\n",
       "      <td>0</td>\n",
       "    </tr>\n",
       "    <tr>\n",
       "      <th>2</th>\n",
       "      <td>69</td>\n",
       "      <td>,</td>\n",
       "      <td>14.0</td>\n",
       "      <td>1025.0</td>\n",
       "      <td>64.0</td>\n",
       "      <td>0.0</td>\n",
       "      <td>Low</td>\n",
       "      <td>0</td>\n",
       "      <td>0</td>\n",
       "      <td>03</td>\n",
       "      <td>15</td>\n",
       "      <td>4</td>\n",
       "      <td>0</td>\n",
       "      <td>0</td>\n",
       "      <td>2</td>\n",
       "    </tr>\n",
       "    <tr>\n",
       "      <th>3</th>\n",
       "      <td>2297</td>\n",
       "      <td>N101,N105,R206,</td>\n",
       "      <td>15.0</td>\n",
       "      <td>1028.0</td>\n",
       "      <td>75.0</td>\n",
       "      <td>1.0</td>\n",
       "      <td>Very_High</td>\n",
       "      <td>11</td>\n",
       "      <td>3</td>\n",
       "      <td>09</td>\n",
       "      <td>09</td>\n",
       "      <td>2</td>\n",
       "      <td>0</td>\n",
       "      <td>0</td>\n",
       "      <td>2</td>\n",
       "    </tr>\n",
       "    <tr>\n",
       "      <th>4</th>\n",
       "      <td>0</td>\n",
       "      <td>N101,</td>\n",
       "      <td>27.0</td>\n",
       "      <td>1020.0</td>\n",
       "      <td>52.0</td>\n",
       "      <td>1.0</td>\n",
       "      <td>High</td>\n",
       "      <td>5</td>\n",
       "      <td>1</td>\n",
       "      <td>06</td>\n",
       "      <td>11</td>\n",
       "      <td>6</td>\n",
       "      <td>0</td>\n",
       "      <td>0</td>\n",
       "      <td>2</td>\n",
       "    </tr>\n",
       "  </tbody>\n",
       "</table>\n",
       "</div>"
      ],
      "text/plain": [
       "   delay_in_seconds   affected_roads  avg_temperature  avg_atm_pressure  \\\n",
       "0                 0                ,             12.0            1013.0   \n",
       "1               385            N101,             12.0            1007.0   \n",
       "2                69                ,             14.0            1025.0   \n",
       "3              2297  N101,N105,R206,             15.0            1028.0   \n",
       "4                 0            N101,             27.0            1020.0   \n",
       "\n",
       "   avg_humidity  avg_wind_speed  incidents  number_of_affected_roads  \\\n",
       "0          70.0             1.0       None                         0   \n",
       "1          91.0             1.0       None                         1   \n",
       "2          64.0             0.0        Low                         0   \n",
       "3          75.0             1.0  Very_High                        11   \n",
       "4          52.0             1.0       High                         5   \n",
       "\n",
       "   unique_roads_affected month hour  week_day  holiday  avg_rain  luminosity  \n",
       "0                      0    03   23         0        0         0           0  \n",
       "1                      1    12   18         5        1         0           0  \n",
       "2                      0    03   15         4        0         0           2  \n",
       "3                      3    09   09         2        0         0           2  \n",
       "4                      1    06   11         6        0         0           2  "
      ]
     },
     "execution_count": 26,
     "metadata": {},
     "output_type": "execute_result"
    }
   ],
   "source": [
    "print(dataSetOrig['luminosity'].unique())\n",
    "\n",
    "convertLuminDict = {\n",
    "    'DARK':0,\n",
    "    'LOW_LIGHT':1,\n",
    "    'LIGHT':2\n",
    "}\n",
    "\n",
    "luminList = []\n",
    "for value in testDataSetOrig['luminosity']:\n",
    "    luminList.append(convertLuminDict[str(value)])\n",
    "\n",
    "testDataSet.drop(['luminosity'],axis=1,inplace=True)    \n",
    "testDataSet['luminosity'] = luminList\n",
    "\n",
    "\n",
    "luminList = []\n",
    "for value in dataSetOrig['luminosity']:\n",
    "    luminList.append(convertLuminDict[str(value)])\n",
    "\n",
    "dataSet.drop(['luminosity'],axis=1,inplace=True)    \n",
    "dataSet['luminosity'] = luminList\n",
    "dataSet.head()"
   ]
  },
  {
   "cell_type": "markdown",
   "id": "a5b19e28-4923-411d-ba05-5b80af3e9d05",
   "metadata": {
    "tags": []
   },
   "source": [
    "## Treino e Teste de Modelos"
   ]
  },
  {
   "cell_type": "markdown",
   "id": "64817fa6-fd67-4b6d-9a22-c38b4e5246db",
   "metadata": {
    "tags": []
   },
   "source": [
    "#### Imports"
   ]
  },
  {
   "cell_type": "code",
   "execution_count": 27,
   "id": "418066c1-18c8-4167-8954-32b7339ca630",
   "metadata": {},
   "outputs": [],
   "source": [
    "# Imports\n",
    "import pandas as pd\n",
    "import matplotlib.pyplot as plt\n",
    "import seaborn as sns\n",
    "import sklearn as skl\n",
    "from sklearn import preprocessing\n",
    "from sklearn.model_selection import train_test_split\n",
    "from sklearn.tree import DecisionTreeClassifier\n",
    "from sklearn.tree import DecisionTreeRegressor\n",
    "from sklearn.metrics import confusion_matrix\n",
    "from sklearn.metrics import recall_score\n",
    "from sklearn.metrics import accuracy_score\n",
    "from sklearn.metrics import precision_score\n",
    "from sklearn.metrics import roc_auc_score\n",
    "from sklearn.metrics import roc_curve\n",
    "from sklearn.metrics import f1_score\n",
    "from sklearn.metrics import fbeta_score\n",
    "from sklearn.metrics import mean_absolute_error\n",
    "from sklearn.metrics import mean_squared_error\n",
    "from sklearn.pipeline import make_pipeline\n",
    "from sklearn.compose import make_column_transformer\n",
    "from sklearn.feature_selection import SelectKBest, chi2, f_classif, VarianceThreshold\n",
    "from sklearn.impute import SimpleImputer, KNNImputer, MissingIndicator\n",
    "from sklearn.preprocessing import KBinsDiscretizer, OneHotEncoder, MinMaxScaler\n",
    "from sklearn.decomposition import PCA\n",
    "from sklearn.ensemble import RandomForestClassifier, ExtraTreesClassifier\n",
    "from sklearn.svm import SVC\n",
    "\n",
    "RANDOM_SEED = 2021"
   ]
  },
  {
   "cell_type": "markdown",
   "id": "e8caf5eb-9404-47cd-9e42-74d30be94b58",
   "metadata": {
    "tags": []
   },
   "source": [
    "#### Divisão do DataSet para Teste/Treino"
   ]
  },
  {
   "cell_type": "code",
   "execution_count": 28,
   "id": "313eaa9d-6193-434b-832d-49c96adf569e",
   "metadata": {},
   "outputs": [],
   "source": [
    "x = dataSet.drop([targetFeature],axis=1)\n",
    "y = dataSet[targetFeature].to_frame()"
   ]
  },
  {
   "cell_type": "markdown",
   "id": "0eb8a7f4-f9dd-4bce-a5a8-bdc18152549a",
   "metadata": {
    "tags": []
   },
   "source": [
    "#### Categorização de Atributos"
   ]
  },
  {
   "cell_type": "code",
   "execution_count": 29,
   "id": "1a477064-c8fa-45b8-9848-856db6658c2d",
   "metadata": {},
   "outputs": [],
   "source": [
    "numerical_features = [c for c, dtype in zip(x.columns, x.dtypes)\n",
    "                     if dtype.kind in ['i','f']]\n",
    "categorical_features = [c for c, dtype in zip(x.columns, x.dtypes)\n",
    "                     if dtype.kind not in ['i','f']]"
   ]
  },
  {
   "cell_type": "markdown",
   "id": "608dae2a-5822-46de-b5ef-763f678d858e",
   "metadata": {
    "tags": []
   },
   "source": [
    "### Decision Tree"
   ]
  },
  {
   "cell_type": "markdown",
   "id": "6113c912-5655-43ea-aecf-34a8a7f3ba82",
   "metadata": {
    "tags": []
   },
   "source": [
    "#### Treino"
   ]
  },
  {
   "cell_type": "code",
   "execution_count": 31,
   "id": "0790788c-bb78-4fe6-b6fe-2e13b0ca8d0a",
   "metadata": {},
   "outputs": [
    {
     "data": {
      "text/plain": [
       "DecisionTreeClassifier(random_state=2021)"
      ]
     },
     "execution_count": 31,
     "metadata": {},
     "output_type": "execute_result"
    }
   ],
   "source": [
    "clf = DecisionTreeClassifier(random_state=RANDOM_SEED)\n",
    "clf.fit(x.drop(categorical_features,axis=1),y)"
   ]
  },
  {
   "cell_type": "markdown",
   "id": "7bcd7fcc-ca5a-451c-868c-08b2b9f1252f",
   "metadata": {},
   "source": [
    "#### Teste"
   ]
  },
  {
   "cell_type": "code",
   "execution_count": 33,
   "id": "49a34c29-14ab-45b5-af6c-e60b5b2b30b4",
   "metadata": {},
   "outputs": [],
   "source": [
    "clfPredictions = clf.predict(testDataSet.drop(categorical_features,axis=1))"
   ]
  },
  {
   "cell_type": "markdown",
   "id": "f988c357-d97e-4e2d-8c78-4810666e222b",
   "metadata": {
    "tags": []
   },
   "source": [
    "#### Prepara Submissão"
   ]
  },
  {
   "cell_type": "code",
   "execution_count": 34,
   "id": "37723355-9b52-4470-9c2a-5815d8e16ba0",
   "metadata": {
    "tags": []
   },
   "outputs": [],
   "source": [
    "fileSub = open(\"submissoes/clfSubmissao.csv\", \"w\")\n",
    "fileSub.write(\"RowId,Incidents\\n\")\n",
    "\n",
    "idx = int(1)\n",
    "for elem in clfPredictions:\n",
    "    fileSub.write(str(idx)+\",\"+str(elem)+\"\\n\")\n",
    "    idx = idx + 1\n",
    "\n",
    "fileSub.close()"
   ]
  },
  {
   "cell_type": "markdown",
   "id": "0c56b5f8-d911-4b20-ae91-400d5fde8785",
   "metadata": {
    "tags": []
   },
   "source": [
    "### Random Forest - Simple"
   ]
  },
  {
   "cell_type": "code",
   "execution_count": 35,
   "id": "d53aac2c-2bc0-47c9-a8c9-ce499139c223",
   "metadata": {},
   "outputs": [],
   "source": [
    "preprocessor = make_column_transformer(\n",
    "    (make_pipeline(\n",
    "        SimpleImputer(strategy = 'median'),\n",
    "        #KNNImputer(n_neighbors=2, weights=\"uniform\"),\n",
    "        MinMaxScaler()\n",
    "    ),\n",
    "     numerical_features),\n",
    "    (make_pipeline(\n",
    "        SimpleImputer(strategy = \"constant\", fill_value=\"missing\"),\n",
    "        OneHotEncoder(categories = \"auto\", handle_unknown= \"ignore\")\n",
    "    ),\n",
    "     categorical_features),\n",
    ")\n",
    "\n",
    "preprocessor_best = make_pipeline(\n",
    "    preprocessor,\n",
    "    VarianceThreshold(),\n",
    "    SelectKBest(f_classif, k= 50)\n",
    ")"
   ]
  },
  {
   "cell_type": "markdown",
   "id": "501955ac-ef07-4c0d-bebb-05eca31a8fe6",
   "metadata": {
    "tags": []
   },
   "source": [
    "#### Treino"
   ]
  },
  {
   "cell_type": "code",
   "execution_count": 36,
   "id": "0d0df12e-e2ae-4114-ad3a-a58f17e7f19a",
   "metadata": {},
   "outputs": [
    {
     "name": "stderr",
     "output_type": "stream",
     "text": [
      "/home/vicshadow/Program_Files/anaconda3/envs/env/lib/python3.6/site-packages/sklearn/utils/validation.py:63: DataConversionWarning: A column-vector y was passed when a 1d array was expected. Please change the shape of y to (n_samples, ), for example using ravel().\n",
      "  return f(*args, **kwargs)\n",
      "/home/vicshadow/Program_Files/anaconda3/envs/env/lib/python3.6/site-packages/sklearn/pipeline.py:346: DataConversionWarning: A column-vector y was passed when a 1d array was expected. Please change the shape of y to (n_samples,), for example using ravel().\n",
      "  self._final_estimator.fit(Xt, y, **fit_params_last_step)\n"
     ]
    },
    {
     "data": {
      "text/plain": [
       "Pipeline(steps=[('pipeline',\n",
       "                 Pipeline(steps=[('columntransformer',\n",
       "                                  ColumnTransformer(transformers=[('pipeline-1',\n",
       "                                                                   Pipeline(steps=[('simpleimputer',\n",
       "                                                                                    SimpleImputer(strategy='median')),\n",
       "                                                                                   ('minmaxscaler',\n",
       "                                                                                    MinMaxScaler())]),\n",
       "                                                                   ['delay_in_seconds',\n",
       "                                                                    'avg_temperature',\n",
       "                                                                    'avg_atm_pressure',\n",
       "                                                                    'avg_humidity',\n",
       "                                                                    'avg_wind_speed',\n",
       "                                                                    'number_of_affected_roads',\n",
       "                                                                    'unique_roads_affected...\n",
       "                                                                    'avg_rain',\n",
       "                                                                    'luminosity']),\n",
       "                                                                  ('pipeline-2',\n",
       "                                                                   Pipeline(steps=[('simpleimputer',\n",
       "                                                                                    SimpleImputer(fill_value='missing',\n",
       "                                                                                                  strategy='constant')),\n",
       "                                                                                   ('onehotencoder',\n",
       "                                                                                    OneHotEncoder(handle_unknown='ignore'))]),\n",
       "                                                                   ['affected_roads',\n",
       "                                                                    'month',\n",
       "                                                                    'hour'])])),\n",
       "                                 ('variancethreshold', VarianceThreshold()),\n",
       "                                 ('selectkbest', SelectKBest(k=50))])),\n",
       "                ('randomforestclassifier', RandomForestClassifier())])"
      ]
     },
     "execution_count": 36,
     "metadata": {},
     "output_type": "execute_result"
    }
   ],
   "source": [
    "RF_Model = make_pipeline(preprocessor_best, RandomForestClassifier(n_estimators = 100))\n",
    "RF_Model.fit(x,y)"
   ]
  },
  {
   "cell_type": "markdown",
   "id": "0caaed1a-1b8b-4440-a831-4256c12b800f",
   "metadata": {
    "tags": []
   },
   "source": [
    "#### Teste"
   ]
  },
  {
   "cell_type": "code",
   "execution_count": 37,
   "id": "50e69760-dc8e-41c5-a8ff-c20250889667",
   "metadata": {},
   "outputs": [],
   "source": [
    "RFPredictions = RF_Model.predict(testDataSet)"
   ]
  },
  {
   "cell_type": "markdown",
   "id": "ffcea88e-3e30-4566-9f89-2bc91a498e49",
   "metadata": {
    "tags": []
   },
   "source": [
    "#### Prepara Submissão"
   ]
  },
  {
   "cell_type": "code",
   "execution_count": 38,
   "id": "1e1a9adc-2be6-439c-a651-75aa9374b573",
   "metadata": {},
   "outputs": [],
   "source": [
    "fileSub = open(\"submissoes/rfSubmissao.csv\", \"w\")\n",
    "fileSub.write(\"RowId,Incidents\\n\")\n",
    "\n",
    "idx = int(1)\n",
    "for elem in RFPredictions:\n",
    "    fileSub.write(str(idx)+\",\"+str(elem)+\"\\n\")\n",
    "    idx = idx + 1\n",
    "\n",
    "fileSub.close()"
   ]
  },
  {
   "cell_type": "markdown",
   "id": "11bcf3aa-633a-4384-a880-fa4ad9255789",
   "metadata": {
    "tags": []
   },
   "source": [
    "### Random Forest with HyperParameter Tuning"
   ]
  },
  {
   "cell_type": "markdown",
   "id": "5ff2cff2-8852-43f6-92a8-e8e0a63a4aba",
   "metadata": {
    "tags": []
   },
   "source": [
    "#### Definição de Parâmetros"
   ]
  },
  {
   "cell_type": "code",
   "execution_count": 39,
   "id": "021819d4-cab8-4a19-a8bb-c20a8e8a7132",
   "metadata": {},
   "outputs": [],
   "source": [
    "# Number of trees in random forest\n",
    "n_estimators = [int(x) for x in np.linspace(start = 50, stop = 300, num = 2)]\n",
    "\n",
    "# Number of features to consider at every split\n",
    "max_features = ['auto', 'sqrt']\n",
    "\n",
    "#Maximum number of levels in tree\n",
    "max_depth = [2,6,8,10,]\n",
    "\n",
    "# Minimum number of samples required to split a node\n",
    "min_samples_split = [2, 5, 8,]\n",
    "\n",
    "# Minimum number of samples required at each leaf node\n",
    "min_samples_leaf = [1, 2, 3]\n",
    "\n",
    "# Method of selecting samples for training each tree\n",
    "bootstrap = [True, False]"
   ]
  },
  {
   "cell_type": "code",
   "execution_count": 40,
   "id": "a0c624da-897a-4d94-ae68-f4c8e082c68a",
   "metadata": {},
   "outputs": [
    {
     "name": "stdout",
     "output_type": "stream",
     "text": [
      "{'randomforestclassifier__n_estimators': [50, 300], 'randomforestclassifier__max_features': ['auto', 'sqrt'], 'randomforestclassifier__max_depth': [2, 6, 8, 10], 'randomforestclassifier__min_samples_split': [2, 5, 8], 'randomforestclassifier__min_samples_leaf': [1, 2, 3], 'randomforestclassifier__bootstrap': [True, False]}\n"
     ]
    }
   ],
   "source": [
    "# Create the param grid\n",
    "param_grid = {'randomforestclassifier__n_estimators': n_estimators,\n",
    "              'randomforestclassifier__max_features': max_features,\n",
    "              'randomforestclassifier__max_depth': max_depth,\n",
    "              'randomforestclassifier__min_samples_split': min_samples_split,\n",
    "              'randomforestclassifier__min_samples_leaf': min_samples_leaf,\n",
    "              'randomforestclassifier__bootstrap': bootstrap\n",
    "             }\n",
    "print(param_grid)"
   ]
  },
  {
   "cell_type": "markdown",
   "id": "bdb1f0ad-d837-4dfd-a87d-5ef9ff6cb0a0",
   "metadata": {
    "tags": []
   },
   "source": [
    "#### Treino"
   ]
  },
  {
   "cell_type": "code",
   "execution_count": 41,
   "id": "5bcb3c98-65f6-46dc-8c30-9f61f5142896",
   "metadata": {},
   "outputs": [],
   "source": [
    "from sklearn.model_selection import RandomizedSearchCV\n",
    "\n",
    "RFHPRandomGrid = RandomizedSearchCV(estimator = RF_Model, param_distributions = param_grid, cv = 5, verbose=1, n_jobs = -1, n_iter = 10, scoring = 'f1_micro')"
   ]
  },
  {
   "cell_type": "code",
   "execution_count": 42,
   "id": "73bae3f2-ad73-4515-bcda-2f665684dea4",
   "metadata": {},
   "outputs": [
    {
     "name": "stdout",
     "output_type": "stream",
     "text": [
      "Fitting 5 folds for each of 10 candidates, totalling 50 fits\n"
     ]
    },
    {
     "name": "stderr",
     "output_type": "stream",
     "text": [
      "/home/vicshadow/Program_Files/anaconda3/envs/env/lib/python3.6/site-packages/sklearn/utils/validation.py:63: DataConversionWarning: A column-vector y was passed when a 1d array was expected. Please change the shape of y to (n_samples, ), for example using ravel().\n",
      "  return f(*args, **kwargs)\n",
      "/home/vicshadow/Program_Files/anaconda3/envs/env/lib/python3.6/site-packages/sklearn/pipeline.py:346: DataConversionWarning: A column-vector y was passed when a 1d array was expected. Please change the shape of y to (n_samples,), for example using ravel().\n",
      "  self._final_estimator.fit(Xt, y, **fit_params_last_step)\n"
     ]
    },
    {
     "data": {
      "text/plain": [
       "Pipeline(steps=[('pipeline',\n",
       "                 Pipeline(steps=[('columntransformer',\n",
       "                                  ColumnTransformer(transformers=[('pipeline-1',\n",
       "                                                                   Pipeline(steps=[('simpleimputer',\n",
       "                                                                                    SimpleImputer(strategy='median')),\n",
       "                                                                                   ('minmaxscaler',\n",
       "                                                                                    MinMaxScaler())]),\n",
       "                                                                   ['delay_in_seconds',\n",
       "                                                                    'avg_temperature',\n",
       "                                                                    'avg_atm_pressure',\n",
       "                                                                    'avg_humidity',\n",
       "                                                                    'avg_wind_speed',\n",
       "                                                                    'number_of_affected_roads',\n",
       "                                                                    'unique_roads_affected...\n",
       "                                                                                    SimpleImputer(fill_value='missing',\n",
       "                                                                                                  strategy='constant')),\n",
       "                                                                                   ('onehotencoder',\n",
       "                                                                                    OneHotEncoder(handle_unknown='ignore'))]),\n",
       "                                                                   ['affected_roads',\n",
       "                                                                    'month',\n",
       "                                                                    'hour'])])),\n",
       "                                 ('variancethreshold', VarianceThreshold()),\n",
       "                                 ('selectkbest', SelectKBest(k=50))])),\n",
       "                ('randomforestclassifier',\n",
       "                 RandomForestClassifier(max_depth=10, min_samples_leaf=2,\n",
       "                                        min_samples_split=8,\n",
       "                                        n_estimators=300))])"
      ]
     },
     "execution_count": 42,
     "metadata": {},
     "output_type": "execute_result"
    }
   ],
   "source": [
    "RFHPRandomGrid.fit(x,y)\n",
    "RFHPRandomGrid.best_estimator_"
   ]
  },
  {
   "cell_type": "markdown",
   "id": "1e0bbfaa-790a-469e-af99-61510bf354e9",
   "metadata": {
    "tags": []
   },
   "source": [
    "#### Teste"
   ]
  },
  {
   "cell_type": "code",
   "execution_count": 43,
   "id": "f776361a-c228-461c-85e6-d1dbd5e0cf54",
   "metadata": {},
   "outputs": [],
   "source": [
    "RFHPPredictions = RFHPRandomGrid.predict(testDataSet)"
   ]
  },
  {
   "cell_type": "markdown",
   "id": "f6f3e53c-5980-4c7a-a402-3f762280e329",
   "metadata": {
    "tags": []
   },
   "source": [
    "#### Prepara a Submissão"
   ]
  },
  {
   "cell_type": "code",
   "execution_count": 44,
   "id": "7fbe7b13-a251-4ee5-9f11-e75a10d1f3ed",
   "metadata": {},
   "outputs": [],
   "source": [
    "fileSub = open(\"submissoes/rfhpSubmissao.csv\", \"w\")\n",
    "fileSub.write(\"RowId,Incidents\\n\")\n",
    "\n",
    "idx = int(1)\n",
    "for elem in RFHPPredictions:\n",
    "    fileSub.write(str(idx)+\",\"+str(elem)+\"\\n\")\n",
    "    idx = idx + 1\n",
    "\n",
    "fileSub.close()"
   ]
  },
  {
   "cell_type": "markdown",
   "id": "4eee6376-9741-4581-a48e-7a32e8fbd7c9",
   "metadata": {
    "tags": []
   },
   "source": [
    "### XGBoost - Simples"
   ]
  },
  {
   "cell_type": "code",
   "execution_count": 45,
   "id": "858fa552-2279-47cb-85ad-4bc2fd55fcdc",
   "metadata": {},
   "outputs": [],
   "source": [
    "preprocessor = make_column_transformer(\n",
    "    (make_pipeline(\n",
    "        #SimpleImputer(strategy = 'median')\n",
    "        KNNImputer(n_neighbors=2, weights=\"uniform\"),\n",
    "        MinMaxScaler()),\n",
    "     numerical_features),\n",
    "    (make_pipeline(\n",
    "        SimpleImputer(strategy = \"constant\", fill_value = \"missing\"),\n",
    "        OneHotEncoder(categories = \"auto\", handle_unknown = \"ignore\")),\n",
    "     categorical_features),\n",
    ")\n",
    "\n",
    "preprocessor_best = make_pipeline(\n",
    "    preprocessor,\n",
    "    VarianceThreshold(),\n",
    "    SelectKBest(f_classif, k = 50)\n",
    ")"
   ]
  },
  {
   "cell_type": "code",
   "execution_count": 46,
   "id": "b04894e8-3465-41d4-8016-aed2cc191716",
   "metadata": {},
   "outputs": [],
   "source": [
    "from xgboost import XGBClassifier\n",
    "import xgboost as xgb\n",
    "XG_model = make_pipeline(preprocessor_best, XGBClassifier(n_estimators = 100))"
   ]
  },
  {
   "cell_type": "code",
   "execution_count": 47,
   "id": "7d3e5681-3560-4980-84b6-12de737d7f58",
   "metadata": {},
   "outputs": [
    {
     "name": "stderr",
     "output_type": "stream",
     "text": [
      "/home/vicshadow/Program_Files/anaconda3/envs/env/lib/python3.6/site-packages/sklearn/utils/validation.py:63: DataConversionWarning: A column-vector y was passed when a 1d array was expected. Please change the shape of y to (n_samples, ), for example using ravel().\n",
      "  return f(*args, **kwargs)\n",
      "/home/vicshadow/Program_Files/anaconda3/envs/env/lib/python3.6/site-packages/xgboost/sklearn.py:1224: UserWarning: The use of label encoder in XGBClassifier is deprecated and will be removed in a future release. To remove this warning, do the following: 1) Pass option use_label_encoder=False when constructing XGBClassifier object; and 2) Encode your labels (y) as integers starting with 0, i.e. 0, 1, 2, ..., [num_class - 1].\n",
      "  warnings.warn(label_encoder_deprecation_msg, UserWarning)\n"
     ]
    },
    {
     "name": "stdout",
     "output_type": "stream",
     "text": [
      "[17:18:03] WARNING: ../src/learner.cc:1115: Starting in XGBoost 1.3.0, the default evaluation metric used with the objective 'multi:softprob' was changed from 'merror' to 'mlogloss'. Explicitly set eval_metric if you'd like to restore the old behavior.\n"
     ]
    },
    {
     "data": {
      "text/plain": [
       "Pipeline(steps=[('pipeline',\n",
       "                 Pipeline(steps=[('columntransformer',\n",
       "                                  ColumnTransformer(transformers=[('pipeline-1',\n",
       "                                                                   Pipeline(steps=[('knnimputer',\n",
       "                                                                                    KNNImputer(n_neighbors=2)),\n",
       "                                                                                   ('minmaxscaler',\n",
       "                                                                                    MinMaxScaler())]),\n",
       "                                                                   ['delay_in_seconds',\n",
       "                                                                    'avg_temperature',\n",
       "                                                                    'avg_atm_pressure',\n",
       "                                                                    'avg_humidity',\n",
       "                                                                    'avg_wind_speed',\n",
       "                                                                    'number_of_affected_roads',\n",
       "                                                                    'unique_roads_affected',\n",
       "                                                                    'week_da...\n",
       "                               interaction_constraints='',\n",
       "                               learning_rate=0.300000012, max_delta_step=0,\n",
       "                               max_depth=6, min_child_weight=1, missing=nan,\n",
       "                               monotone_constraints='()', n_estimators=100,\n",
       "                               n_jobs=8, num_parallel_tree=1,\n",
       "                               objective='multi:softprob', predictor='auto',\n",
       "                               random_state=0, reg_alpha=0, reg_lambda=1,\n",
       "                               scale_pos_weight=None, subsample=1,\n",
       "                               tree_method='exact', validate_parameters=1,\n",
       "                               verbosity=None))])"
      ]
     },
     "execution_count": 47,
     "metadata": {},
     "output_type": "execute_result"
    }
   ],
   "source": [
    "XG_model.fit(x,y)"
   ]
  },
  {
   "cell_type": "code",
   "execution_count": 48,
   "id": "63220427-85ff-48f9-be37-d1becc030b9b",
   "metadata": {},
   "outputs": [],
   "source": [
    "XGBPredictions = XG_model.predict(testDataSet)"
   ]
  },
  {
   "cell_type": "code",
   "execution_count": 49,
   "id": "a96b9056-c203-4e59-a5c8-091777a56f4a",
   "metadata": {},
   "outputs": [],
   "source": [
    "fileSub = open(\"submissoes/xgbSubmissao.csv\", \"w\")\n",
    "fileSub.write(\"RowId,Incidents\\n\")\n",
    "\n",
    "idx = int(1)\n",
    "for elem in XGBPredictions:\n",
    "    fileSub.write(str(idx)+\",\"+str(elem)+\"\\n\")\n",
    "    idx = idx + 1\n",
    "\n",
    "fileSub.close()"
   ]
  },
  {
   "cell_type": "markdown",
   "id": "35a4d306-aaa3-4b2d-ab04-880b29ddcf24",
   "metadata": {
    "tags": []
   },
   "source": [
    "### Support Vector Machine"
   ]
  },
  {
   "cell_type": "markdown",
   "id": "1524cadc-a790-414f-aa2c-90896efa519f",
   "metadata": {
    "tags": []
   },
   "source": [
    "#### Treino"
   ]
  },
  {
   "cell_type": "code",
   "execution_count": 50,
   "id": "7c0bd7c5-3ebd-423d-b2bb-23d280a9e1de",
   "metadata": {},
   "outputs": [
    {
     "name": "stderr",
     "output_type": "stream",
     "text": [
      "/home/vicshadow/Program_Files/anaconda3/envs/env/lib/python3.6/site-packages/sklearn/utils/validation.py:63: DataConversionWarning: A column-vector y was passed when a 1d array was expected. Please change the shape of y to (n_samples, ), for example using ravel().\n",
      "  return f(*args, **kwargs)\n"
     ]
    },
    {
     "data": {
      "text/plain": [
       "SVC(random_state=2021)"
      ]
     },
     "execution_count": 50,
     "metadata": {},
     "output_type": "execute_result"
    }
   ],
   "source": [
    "svmModel = SVC(random_state=RANDOM_SEED)\n",
    "svmModel.fit(x.drop(categorical_features,axis=1),y)"
   ]
  },
  {
   "cell_type": "markdown",
   "id": "56850302-8d93-4669-b5c1-0ffb434c562a",
   "metadata": {},
   "source": [
    "#### Teste"
   ]
  },
  {
   "cell_type": "code",
   "execution_count": 51,
   "id": "e2f454c8-9134-4fde-a82e-50939ac54fde",
   "metadata": {},
   "outputs": [],
   "source": [
    "svmPredictions = svmModel.predict(testDataSet.drop(categorical_features,axis=1))"
   ]
  },
  {
   "cell_type": "markdown",
   "id": "f83b5554-628c-4621-8d72-a707ebabdb5a",
   "metadata": {
    "tags": []
   },
   "source": [
    "#### Prepara Submissão"
   ]
  },
  {
   "cell_type": "code",
   "execution_count": 52,
   "id": "e185ef6e-9878-4f3a-8590-c108c74b8fc7",
   "metadata": {
    "tags": []
   },
   "outputs": [],
   "source": [
    "fileSub = open(\"submissoes/svmSubmissao.csv\", \"w\")\n",
    "fileSub.write(\"RowId,Incidents\\n\")\n",
    "\n",
    "idx = int(1)\n",
    "for elem in svmPredictions:\n",
    "    fileSub.write(str(idx)+\",\"+str(elem)+\"\\n\")\n",
    "    idx = idx + 1\n",
    "\n",
    "fileSub.close()"
   ]
  }
 ],
 "metadata": {
  "kernelspec": {
   "display_name": "Python 3 (ipykernel)",
   "language": "python",
   "name": "python3"
  },
  "language_info": {
   "codemirror_mode": {
    "name": "ipython",
    "version": 3
   },
   "file_extension": ".py",
   "mimetype": "text/x-python",
   "name": "python",
   "nbconvert_exporter": "python",
   "pygments_lexer": "ipython3",
   "version": "3.6.13"
  }
 },
 "nbformat": 4,
 "nbformat_minor": 5
}
